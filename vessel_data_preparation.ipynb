{
 "cells": [
  {
   "cell_type": "code",
   "execution_count": null,
   "metadata": {},
   "outputs": [],
   "source": [
    "import numpy as np\n",
    "import pandas as pd\n",
    "import seaborn as sns\n",
    "import matplotlib.pyplot as plt\n",
    "import geopy.distance as gd\n",
    "\n",
    "from mpl_toolkits.basemap import Basemap\n",
    "from datetime import datetime, timedelta\n",
    "\n",
    "pd.options.mode.chained_assignment = None\n",
    "\n",
    "# from pandarallel import pandarallel"
   ]
  },
  {
   "cell_type": "code",
   "execution_count": null,
   "metadata": {},
   "outputs": [],
   "source": [
    "vessel_information = pd.read_csv(\"./data/Vessel_information.csv\")\n",
    "list_vessel_id = vessel_information.loc[(vessel_information['type'] == 'CSV'), 'vessel_id'].to_list()"
   ]
  },
  {
   "cell_type": "code",
   "execution_count": null,
   "metadata": {},
   "outputs": [],
   "source": [
    "df_vessel_daily_data = pd.read_pickle(\"./data/df_vessel_daily_2019_complete.pkl\")\n",
    "df_vessel_daily_data.loc[df_vessel_daily_data['time_offset'] == 'Z', 'time_offset'] = '00:00'\n",
    "df_vessel_daily_data = df_vessel_daily_data.loc[df_vessel_daily_data.time_offset.isna() == False]"
   ]
  },
  {
   "cell_type": "code",
   "execution_count": null,
   "metadata": {},
   "outputs": [],
   "source": [
    "df_positions_jan2019 = pd.read_csv(\"./data/positions_jan2019.csv\")\n",
    "df_positions_feb2019 = pd.read_csv(\"./data/positions_feb2019.csv\")\n",
    "df_positions_mar2019 = pd.read_csv(\"./data/positions_mar2019.csv\")\n",
    "df_positions_apr2019 = pd.read_csv(\"./data/positions_apr2019.csv\")\n",
    "df_positions_may2019 = pd.read_csv(\"./data/positions_may2019.csv\")\n",
    "df_positions_jun2019 = pd.read_csv(\"./data/positions_june2019.csv\")\n",
    "df_positions_jul2019 = pd.read_csv(\"./data/positions_july2019.csv\")\n",
    "df_positions_aug2019 = pd.read_csv(\"./data/positions_aug2019.csv\")\n",
    "df_positions_sep2019 = pd.read_csv(\"./data/positions_sept2019.csv\")\n",
    "df_positions_oct2019 = pd.read_csv(\"./data/positions_oct2019.csv\")\n",
    "df_positions_nov2019 = pd.read_csv(\"./data/positions_nov2019.csv\")\n",
    "df_positions_dec2019 = pd.read_csv(\"./data/positions_dec2019.csv\")\n",
    "\n",
    "\n",
    "list_df_position = [df_positions_jan2019, df_positions_feb2019, \n",
    "                    df_positions_mar2019, df_positions_apr2019, \n",
    "                    df_positions_may2019, df_positions_jun2019, \n",
    "                    df_positions_jul2019, df_positions_aug2019, \n",
    "                    df_positions_sep2019, df_positions_oct2019, \n",
    "                    df_positions_nov2019, df_positions_dec2019,\n",
    "                   ]\n",
    "\n",
    "df_positions_2019 = pd.concat(list_df_position, axis=0, ignore_index=True)\n",
    "\n",
    "\n",
    "df_positions_2019 = df_positions_2019[(df_positions_2019['vessel_id'].isin(list_vessel_id))]\n",
    "df_positions_2019[\"new_position_received_time\"] = pd.to_datetime(df_positions_2019['position_received_time'])\n",
    "df_positions_2019['new_position_received_time'] = df_positions_2019['new_position_received_time'].dt.tz_localize(None)"
   ]
  },
  {
   "cell_type": "code",
   "execution_count": null,
   "metadata": {},
   "outputs": [],
   "source": [
    "df_positions_2019.drop_duplicates(subset=['vessel_id', 'course', 'destination', 'draught', 'heading',\n",
    "       'latitude', 'longitude', 'nav_status', 'speed', 'eta_time',\n",
    "       'position_received_time', 'location', 'api_source'], inplace=True)"
   ]
  },
  {
   "cell_type": "code",
   "execution_count": null,
   "metadata": {},
   "outputs": [],
   "source": [
    "df_positions_2019.sort_values(by=['vessel_id', 'new_position_received_time'], inplace=True)"
   ]
  },
  {
   "cell_type": "code",
   "execution_count": null,
   "metadata": {},
   "outputs": [],
   "source": [
    "for vessel_id in list_vessel_id:\n",
    "    df_positions_2019.loc[df_positions_2019['vessel_id']==vessel_id, 'prev_lon'] = df_positions_2019.loc[df_positions_2019['vessel_id']==vessel_id, 'longitude'].shift(1)\n",
    "    df_positions_2019.loc[df_positions_2019['vessel_id']==vessel_id, 'prev_lat'] = df_positions_2019.loc[df_positions_2019['vessel_id']==vessel_id, 'latitude'].shift(1)\n",
    "    \n",
    "    df_positions_2019.loc[df_positions_2019['vessel_id']==vessel_id, 'prev_receive_time'] = df_positions_2019.loc[df_positions_2019['vessel_id']==vessel_id, 'new_position_received_time'].shift(1)"
   ]
  },
  {
   "cell_type": "code",
   "execution_count": null,
   "metadata": {},
   "outputs": [],
   "source": [
    "df_positions_2019['prev_coord'] = df_positions_2019.apply(lambda x: (x.prev_lat, x.prev_lon), axis=1)\n",
    "df_positions_2019['curr_coord'] = df_positions_2019.apply(lambda x: (x.latitude, x.longitude), axis=1)"
   ]
  },
  {
   "cell_type": "code",
   "execution_count": null,
   "metadata": {
    "scrolled": true
   },
   "outputs": [],
   "source": [
    "# Here is the calculation of mile since the last record (current_coordinate - previous_coordinate)\n",
    "# This process takes sometime to complete\n",
    "df_positions_2019['mile_since'] = df_positions_2019.loc[df_positions_2019['prev_lon'].notnull()].apply(\n",
    "    lambda x: gd.distance(x.prev_coord, x.curr_coord).nm, axis=1) \n",
    "\n",
    "df_positions_2019[['prev_coord', 'curr_coord', 'mile_since']].head(2)"
   ]
  },
  {
   "cell_type": "code",
   "execution_count": null,
   "metadata": {},
   "outputs": [],
   "source": [
    "# Here is the calculation of hour since the last record (current_time - previous_time)\n",
    "# Then convert to hourly format\n",
    "df_positions_2019['hour_since'] = (df_positions_2019.new_position_received_time - df_positions_2019.prev_receive_time)/np.timedelta64(1, 'h')\n",
    "df_positions_2019[['hour_since']].head(2)\n"
   ]
  },
  {
   "cell_type": "code",
   "execution_count": null,
   "metadata": {},
   "outputs": [],
   "source": [
    "# Here is the calculation of speed (mile_since - hour_since) --> nautical_mile/hour\n",
    "df_positions_2019.at[(df_positions_2019['hour_since'] == 0) & (df_positions_2019['mile_since'] > 0), 'hour_since']=0.001\n",
    "\n",
    "df_positions_2019['speed_nm'] = (df_positions_2019.mile_since / df_positions_2019.hour_since)\n"
   ]
  },
  {
   "cell_type": "code",
   "execution_count": null,
   "metadata": {},
   "outputs": [],
   "source": [
    "df_positions_2019.loc[(df_positions_2019['hour_since'] == 0) & (df_positions_2019['mile_since'] == 0), 'speed_nm'] = 0"
   ]
  },
  {
   "cell_type": "code",
   "execution_count": null,
   "metadata": {},
   "outputs": [],
   "source": [
    "df_positions_2019.columns"
   ]
  },
  {
   "cell_type": "code",
   "execution_count": null,
   "metadata": {},
   "outputs": [],
   "source": [
    "def apply_label_combine_transit(label, new_label):\n",
    "    for idx, row in df_vessel_daily_data[(df_vessel_daily_data['activity'] == label)\n",
    "                                            &\n",
    "                                           (df_vessel_daily_data['vessel_id'].isin(list_vessel_id))].iterrows():\n",
    "        consumption_at_period = row.fuel/row.report_hours\n",
    "        df_positions_2019.loc[((df_positions_2019['new_position_received_time']+timedelta(hours=(int(row.time_offset.split(\":\")[0])), \n",
    "                                                              minutes=(int(row.time_offset.split(\":\")[1]))))\n",
    "                              >= row.new_report_time-timedelta(hours=row.report_hours )) \n",
    "                             & \n",
    "                             ((df_positions_2019['new_position_received_time']+timedelta(hours=(int(row.time_offset.split(\":\")[0])), \n",
    "                                                              minutes=(int(row.time_offset.split(\":\")[1]))))\n",
    "                              < row.new_report_time)\n",
    "                             &\n",
    "                             (df_positions_2019['vessel_id']== row.vessel_id)\n",
    "                                 , ['activity_label', 'activity_label2', 'time_period', 'ref_date','transit_type', 'daily_vessel_id', 'fuel_consumption_average']] = [new_label, row.activity_mode, row.time_period, row.new_report_time, label, row.id, consumption_at_period]        "
   ]
  },
  {
   "cell_type": "code",
   "execution_count": null,
   "metadata": {},
   "outputs": [],
   "source": [
    "def convert_activity_mode(row):\n",
    "    data = {'activity_mode':['002 - Anchor Handling - Medium Main-eng.',\n",
    "                             '011 - Towing - Manual',\n",
    "                             '010 - Towing - DP Auto Pos',\n",
    "                             'AH - Towing',\n",
    "                             '003 - Anchor Handling - Heavy Tention'],\n",
    "            'activity':['AH', 'Towing', 'Towing', 'Towing', 'AH']} \n",
    "    df_lookup = pd.DataFrame(data)\n",
    "    df_temp = df_lookup.loc[df_lookup['activity_mode'] == row.activity_label2]\n",
    "    if df_temp.values.size > 0:\n",
    "        return df_temp.activity.values[0]\n",
    "    else:\n",
    "        return None"
   ]
  },
  {
   "cell_type": "code",
   "execution_count": null,
   "metadata": {},
   "outputs": [],
   "source": [
    "# def calculate_fuel_consumption(related_dataframe):\n",
    "# for idx, row in df_vessel_daily_data.loc[(df_vessel_daily_data['vessel_id'].isin(list_vessel_id))\n",
    "#                                         ].iterrows():\n",
    "# #     print(row.time_offset)\n",
    "#     consumption_at_period = row.fuel/row.report_hours\n",
    "#     df_positions_2019.loc[\n",
    "#         ((df_positions_2019['new_position_received_time'] \n",
    "#           + timedelta(hours=(int(row.time_offset.split(\":\")[0])),\n",
    "#                       minutes=(int(row.time_offset.split(\":\")[1])))) >= row.new_report_time-timedelta(hours=row.report_hours)) \n",
    "#         & \n",
    "#         ((df_positions_2019['new_position_received_time'] \n",
    "#           + timedelta(hours=(int(row.time_offset.split(\":\")[0])),\n",
    "#                       minutes=(int(row.time_offset.split(\":\")[1])))) < row.new_report_time)\n",
    "#         , 'fuel_consumption_average'] = consumption_at_period\n"
   ]
  },
  {
   "cell_type": "code",
   "execution_count": null,
   "metadata": {},
   "outputs": [],
   "source": [
    "df_positions_2019.to_pickle(\"data/[CSV]df_positions_2019_ver1.pkl\")"
   ]
  },
  {
   "cell_type": "markdown",
   "metadata": {},
   "source": [
    "#### resize the df_positions (take out some not used columns, resize columns type) "
   ]
  },
  {
   "cell_type": "code",
   "execution_count": null,
   "metadata": {},
   "outputs": [],
   "source": [
    "df_positions_2019.columns"
   ]
  },
  {
   "cell_type": "code",
   "execution_count": null,
   "metadata": {},
   "outputs": [],
   "source": [
    "df_positions_2019[['id', 'vessel_id']].apply(pd.to_numeric, errors='ignore', downcast='integer').info()\n",
    "df_positions_2019[['course', 'draught', 'longitude', 'latitude',\n",
    "                     'speed', 'prev_lon', 'prev_lat', \n",
    "                     'mile_since', 'hour_since', 'speed_nm']].apply(pd.to_numeric, errors='ignore', downcast='float').info()"
   ]
  },
  {
   "cell_type": "code",
   "execution_count": null,
   "metadata": {},
   "outputs": [],
   "source": [
    "# pd.to_numeric(df_positions_90_2019[['id', 'vessel_id']], )\n",
    "df_positions_2019['vessel_id'] = df_positions_2019['vessel_id'].astype('int16')\n",
    "df_positions_2019['id'] = df_positions_2019['id'].astype('int32')\n",
    "\n",
    "df_positions_2019[['course', 'draught', 'longitude', 'latitude',\n",
    "                     'speed', 'prev_lon', 'prev_lat', \n",
    "                     'mile_since', 'hour_since', 'speed_nm']] = df_positions_2019[['course', 'draught', 'longitude', 'latitude',\n",
    "                                                                       'speed', 'prev_lon', 'prev_lat', \n",
    "                                                                       'mile_since', 'hour_since', 'speed_nm']].astype('float32')"
   ]
  },
  {
   "cell_type": "code",
   "execution_count": null,
   "metadata": {},
   "outputs": [],
   "source": [
    "df_positions_2019 = df_positions_2019[['id', 'vessel_id','speed', \n",
    "       'new_position_received_time', \n",
    "       'prev_receive_time', 'prev_coord', 'curr_coord', 'mile_since',\n",
    "       'hour_since', 'speed_nm']]"
   ]
  },
  {
   "cell_type": "code",
   "execution_count": null,
   "metadata": {},
   "outputs": [],
   "source": [
    "df_positions_2019.to_pickle(\"data/[resized]df_CSV_positions_2019.pkl\")"
   ]
  },
  {
   "cell_type": "code",
   "execution_count": null,
   "metadata": {},
   "outputs": [],
   "source": [
    "df_positions_2019 = pd.read_pickle(\"./data/[resized]df_CSV_positions_2019.pkl\")"
   ]
  },
  {
   "cell_type": "markdown",
   "metadata": {},
   "source": [
    "#### End of resizing block"
   ]
  },
  {
   "cell_type": "markdown",
   "metadata": {},
   "source": [
    "#### Do the model still need this?"
   ]
  },
  {
   "cell_type": "code",
   "execution_count": null,
   "metadata": {},
   "outputs": [],
   "source": [
    "df_positions_2019.loc[(df_positions_2019.fuel_consumption_average.isna()==False) \n",
    "                         &\n",
    "                         (df_positions_2019.speed_nm.isna()==False), 'speed_consumption_average'] = df_positions_2019.loc[(df_positions_2019.fuel_consumption_average>0)\n",
    "                                                                                                                                &\n",
    "                                                                                                                                (df_positions_2019.speed_nm > 0)].apply(lambda x: x.speed_nm/x.fuel_consumption_average, axis=1)"
   ]
  },
  {
   "cell_type": "code",
   "execution_count": null,
   "metadata": {},
   "outputs": [],
   "source": [
    "# For CSV type\n",
    "apply_label_combine_transit('DP', 'DP')\n",
    "apply_label_combine_transit('Standby','Standby')\n",
    "apply_label_combine_transit('Transit Eco', 'TransitCombine')\n",
    "apply_label_combine_transit('Transit', 'TransitCombine')\n",
    "apply_label_combine_transit('Transit Max', 'TransitCombine')\n",
    "apply_label_combine_transit('Port', 'Port')\n",
    "apply_label_combine_transit('AH/Towing', 'AH/Towing')"
   ]
  },
  {
   "cell_type": "code",
   "execution_count": null,
   "metadata": {},
   "outputs": [],
   "source": [
    "df_positions_2019.loc[(df_positions_2019['activity_label'] == 'AH/Towing'), 'activity_label'] = df_positions_2019.loc[(df_positions_2019['activity_label'] == 'AH/Towing')].apply(lambda x: convert_activity_mode(x), axis=1)"
   ]
  }
 ],
 "metadata": {
  "kernelspec": {
   "display_name": "Python 3",
   "language": "python",
   "name": "python3"
  },
  "language_info": {
   "codemirror_mode": {
    "name": "ipython",
    "version": 3
   },
   "file_extension": ".py",
   "mimetype": "text/x-python",
   "name": "python",
   "nbconvert_exporter": "python",
   "pygments_lexer": "ipython3",
   "version": "3.6.12"
  }
 },
 "nbformat": 4,
 "nbformat_minor": 4
}
