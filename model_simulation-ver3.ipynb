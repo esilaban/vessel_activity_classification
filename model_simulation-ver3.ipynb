{
 "cells": [
  {
   "cell_type": "code",
   "execution_count": 1,
   "metadata": {},
   "outputs": [],
   "source": [
    "import numpy as np\n",
    "import pandas as pd\n",
    "import seaborn as sns\n",
    "import matplotlib.pyplot as plt\n",
    "import geopy.distance as gd\n",
    "\n",
    "from datetime import datetime, timedelta\n",
    "\n",
    "import pickle"
   ]
  },
  {
   "cell_type": "code",
   "execution_count": 2,
   "metadata": {},
   "outputs": [
    {
     "name": "stdout",
     "output_type": "stream",
     "text": [
      "2021-07-21 21:09:26.546517\n"
     ]
    }
   ],
   "source": [
    "print(datetime.now())"
   ]
  },
  {
   "cell_type": "code",
   "execution_count": 3,
   "metadata": {},
   "outputs": [],
   "source": [
    "def apply_relationship(row):\n",
    "    consumption_at_period = row.fuel/row.report_hours\n",
    "    df_positions_2019.loc[((df_positions_2019['new_position_received_time']+timedelta(hours=(int(row.time_offset.split(\":\")[0])), \n",
    "                                                          minutes=(int(row.time_offset.split(\":\")[1]))))\n",
    "                          >= row.new_report_time-timedelta(hours=row.report_hours )) \n",
    "                         & \n",
    "                         ((df_positions_2019['new_position_received_time']+timedelta(hours=(int(row.time_offset.split(\":\")[0])), \n",
    "                                                          minutes=(int(row.time_offset.split(\":\")[1]))))\n",
    "                          < row.new_report_time)\n",
    "                         &\n",
    "                         (df_positions_2019['vessel_id']== row.vessel_id)\n",
    "                             , ['time_period', 'ref_date', 'daily_vessel_id', 'fuel_consumption_average']] = [row.time_period, row.new_report_time, row.id, consumption_at_period]        "
   ]
  },
  {
   "cell_type": "code",
   "execution_count": 31,
   "metadata": {},
   "outputs": [],
   "source": [
    "def apply_relationship_with_print(row):\n",
    "    consumption_at_period = row.fuel/row.report_hours\n",
    "    return_val_0 = timedelta(hours=(int(row.time_offset.split(\":\")[0])),minutes=(int(row.time_offset.split(\":\")[1])))\n",
    "    return_val_1 = row.new_report_time-timedelta(hours=row.report_hours)\n",
    "    return_val_2 = row.new_report_time \n",
    "    return_val_3 = row.vessel_id\n",
    "\n",
    "    \n",
    "    print(return_val_0)\n",
    "    print(return_val_1)\n",
    "    print(return_val_2)\n",
    "    print(return_val_3)\n",
    "    \n",
    "    \n",
    "    return [return_val_0, return_val_1, return_val_2, return_val_3] \n",
    "    "
   ]
  },
  {
   "cell_type": "code",
   "execution_count": 14,
   "metadata": {},
   "outputs": [
    {
     "name": "stderr",
     "output_type": "stream",
     "text": [
      "/home/efs/anaconda3/envs/vessel_analysis_2/lib/python3.6/site-packages/IPython/core/interactiveshell.py:3072: DtypeWarning: Columns (5) have mixed types.Specify dtype option on import or set low_memory=False.\n",
      "  interactivity=interactivity, compiler=compiler, result=result)\n"
     ]
    }
   ],
   "source": [
    "# df_positions_2019 = pd.read_csv(\"./data/positions_dec2019.csv\")\n",
    "df_positions_2019 = pd.read_csv(\"./data/test/ML_location_data.csv\")\n",
    "# df_positions_2019 = pd.read_pickle(\"./data/[PSV]df_positions_2019_ver2.pkl\")\n",
    "\n",
    "\n",
    "df_positions_2019 = df_positions_2019[(df_positions_2019['vessel_id'].isin(list_vessel_id))]\n",
    "df_positions_2019[\"new_position_received_time\"] = pd.to_datetime(df_positions_2019['position_received_time'])\n",
    "df_positions_2019['new_position_received_time'] = df_positions_2019['new_position_received_time'].dt.tz_localize(None)\n",
    "\n",
    "df_positions_2019.drop_duplicates(subset=['vessel_id', 'course', 'destination', 'draught', 'heading',\n",
    "       'latitude', 'longitude', 'nav_status', 'speed', 'eta_time',\n",
    "       'position_received_time', 'location', 'api_source'], inplace=True)\n",
    "\n",
    "df_positions_2019.sort_values(by=['vessel_id', 'new_position_received_time'], inplace=True)"
   ]
  },
  {
   "cell_type": "code",
   "execution_count": 4,
   "metadata": {},
   "outputs": [],
   "source": [
    "vessel_information = pd.read_csv(\"./data/Vessel_information.csv\")\n",
    "\n",
    "list_vessel_id = vessel_information.loc[(vessel_information['type'] == 'PSV'), 'vessel_id'].to_list()\n",
    "\n",
    "# df_vessel_daily_data = pd.read_csv(\"./data/test/ML_fuel_data_updated-No_activity.csv\", sep=',')\n",
    "# df_vessel_daily_data_raw = pd.read_csv(\"./data/test/ML_fuel_data_updated-No_activity.csv\", sep=',')\n",
    "df_vessel_daily_data = pd.read_excel('./data/test/Data_for_Elga.xlsx', engine='openpyxl') \n",
    "df_vessel_daily_data_raw = pd.read_excel('./data/test/Data_for_Elga.xlsx', engine='openpyxl') \n",
    "\n",
    "# df_vessel_daily_data['fuel'] = df_vessel_daily_data2['fuel']\n",
    "# df_vessel_daily_data_raw['fuel'] = df_vessel_daily_data2['fuel']\n",
    "\n",
    "df_vessel_daily_data[\"id\"] = df_vessel_daily_data.index + 10000\n",
    "df_vessel_daily_data_raw[\"id\"] = df_vessel_daily_data_raw.index + 10000\n",
    "\n",
    "df_vessel_daily_data.loc[df_vessel_daily_data['time_offset'] == 'Z', 'time_offset'] = '00:00'\n",
    "df_vessel_daily_data[\"new_report_date\"] = pd.to_datetime(df_vessel_daily_data['report_date'])\n",
    "\n",
    "df_vessel_daily_data.sort_values(by=['vessel_id', 'new_report_date', 'time_period'], inplace=True)\n",
    "df_vessel_daily_data.reset_index(drop=True, inplace=True)\n",
    "\n",
    "for idx, row in df_vessel_daily_data.iterrows():\n",
    "    if idx < 1:\n",
    "        df_vessel_daily_data.loc[idx, 'new_report_time'] = row['new_report_date'] +  timedelta(hours=row['report_hours'])\n",
    "    else:\n",
    "        if row['time_period'] == 1:\n",
    "            df_vessel_daily_data.loc[idx, 'new_report_time'] = row['new_report_date'] + timedelta(hours=row['report_hours'])\n",
    "        else:\n",
    "            df_vessel_daily_data.loc[idx, 'new_report_time'] = df_vessel_daily_data.iloc[idx-1]['new_report_time'] + timedelta(hours=row['report_hours'])\n"
   ]
  },
  {
   "cell_type": "code",
   "execution_count": 5,
   "metadata": {
    "scrolled": true
   },
   "outputs": [
    {
     "data": {
      "text/plain": [
       "42033"
      ]
     },
     "execution_count": 5,
     "metadata": {},
     "output_type": "execute_result"
    }
   ],
   "source": [
    "df_vessel_daily_data.vessel_id.count()"
   ]
  },
  {
   "cell_type": "code",
   "execution_count": 6,
   "metadata": {},
   "outputs": [],
   "source": [
    "# df_vessel_daily_data.columns\n",
    "# ids = df_vessel_daily_data['id']\n",
    "# df_vessel_daily_data[ids.isin(ids[ids.duplicated()])]\n",
    "\n",
    "df_duplicates = pd.concat(g for _, g in df_vessel_daily_data.groupby(['vessel_id', 'report_date', 'time_period']) if len(g) > 1)"
   ]
  },
  {
   "cell_type": "code",
   "execution_count": 7,
   "metadata": {},
   "outputs": [
    {
     "data": {
      "text/plain": [
       "vessel_id          364\n",
       "name               364\n",
       "type               364\n",
       "report_date        364\n",
       "report_hours       364\n",
       "time_period        364\n",
       "time_offset        364\n",
       "fuel               364\n",
       "activity             0\n",
       "activitymode         0\n",
       "id                 364\n",
       "new_report_date    364\n",
       "new_report_time    364\n",
       "dtype: int64"
      ]
     },
     "execution_count": 7,
     "metadata": {},
     "output_type": "execute_result"
    }
   ],
   "source": [
    "df_duplicates.count()"
   ]
  },
  {
   "cell_type": "code",
   "execution_count": 8,
   "metadata": {},
   "outputs": [],
   "source": [
    "df_vessel_daily_data = df_vessel_daily_data.loc[(df_vessel_daily_data.time_offset.isna() == False)\n",
    "                                                &\n",
    "                                                (df_vessel_daily_data['vessel_id'].isin(list_vessel_id))\n",
    "                                               ]\n",
    "\n",
    "\n",
    "df_vessel_daily_data.drop_duplicates(subset=['vessel_id', 'report_date', 'time_period'], inplace=True)"
   ]
  },
  {
   "cell_type": "code",
   "execution_count": 9,
   "metadata": {},
   "outputs": [
    {
     "data": {
      "text/plain": [
       "5435"
      ]
     },
     "execution_count": 9,
     "metadata": {},
     "output_type": "execute_result"
    }
   ],
   "source": [
    "df_vessel_daily_data_raw.id.count() - df_vessel_daily_data.id.count()"
   ]
  },
  {
   "cell_type": "code",
   "execution_count": 10,
   "metadata": {},
   "outputs": [
    {
     "data": {
      "text/plain": [
       "36598"
      ]
     },
     "execution_count": 10,
     "metadata": {},
     "output_type": "execute_result"
    }
   ],
   "source": [
    "df_vessel_daily_data.id.count()"
   ]
  },
  {
   "cell_type": "code",
   "execution_count": 11,
   "metadata": {},
   "outputs": [
    {
     "data": {
      "text/plain": [
       "Index(['vessel_id', 'name', 'type', 'report_date', 'report_hours',\n",
       "       'time_period', 'time_offset', 'fuel', 'activity', 'activitymode', 'id',\n",
       "       'new_report_date', 'new_report_time'],\n",
       "      dtype='object')"
      ]
     },
     "execution_count": 11,
     "metadata": {},
     "output_type": "execute_result"
    }
   ],
   "source": [
    "df_vessel_daily_data.columns"
   ]
  },
  {
   "cell_type": "code",
   "execution_count": 12,
   "metadata": {},
   "outputs": [
    {
     "data": {
      "text/plain": [
       "23"
      ]
     },
     "execution_count": 12,
     "metadata": {},
     "output_type": "execute_result"
    }
   ],
   "source": [
    "len(df_vessel_daily_data.vessel_id.unique())"
   ]
  },
  {
   "cell_type": "code",
   "execution_count": 13,
   "metadata": {},
   "outputs": [
    {
     "data": {
      "text/plain": [
       "Series([], Name: activity, dtype: int64)"
      ]
     },
     "execution_count": 13,
     "metadata": {},
     "output_type": "execute_result"
    }
   ],
   "source": [
    "df_vessel_daily_data.activity.value_counts()"
   ]
  },
  {
   "cell_type": "code",
   "execution_count": 15,
   "metadata": {},
   "outputs": [
    {
     "data": {
      "text/plain": [
       "1630651"
      ]
     },
     "execution_count": 15,
     "metadata": {},
     "output_type": "execute_result"
    }
   ],
   "source": [
    "df_positions_2019.vessel_id.count()"
   ]
  },
  {
   "cell_type": "code",
   "execution_count": 17,
   "metadata": {},
   "outputs": [],
   "source": [
    "# df_positions_2019 = df_positions_2019.loc[(df_positions_2019.new_position_received_time <='2019-12-23')]"
   ]
  },
  {
   "cell_type": "code",
   "execution_count": 16,
   "metadata": {},
   "outputs": [],
   "source": [
    "for vessel_id in list_vessel_id:\n",
    "    df_positions_2019.loc[df_positions_2019['vessel_id']==vessel_id, 'prev_lon'] = df_positions_2019.loc[df_positions_2019['vessel_id']==vessel_id, 'longitude'].shift(1)\n",
    "    df_positions_2019.loc[df_positions_2019['vessel_id']==vessel_id, 'prev_lat'] = df_positions_2019.loc[df_positions_2019['vessel_id']==vessel_id, 'latitude'].shift(1)\n",
    "    \n",
    "    df_positions_2019.loc[df_positions_2019['vessel_id']==vessel_id, 'prev_receive_time'] = df_positions_2019.loc[df_positions_2019['vessel_id']==vessel_id, 'new_position_received_time'].shift(1)"
   ]
  },
  {
   "cell_type": "code",
   "execution_count": 17,
   "metadata": {},
   "outputs": [],
   "source": [
    "df_positions_2019['prev_coord'] = df_positions_2019.apply(lambda x: (x.prev_lat, x.prev_lon), axis=1)\n",
    "df_positions_2019['curr_coord'] = df_positions_2019.apply(lambda x: (x.latitude, x.longitude), axis=1)"
   ]
  },
  {
   "cell_type": "code",
   "execution_count": 18,
   "metadata": {},
   "outputs": [],
   "source": [
    "# Here is the calculation of mile since the last record (current_coordinate - previous_coordinate)\n",
    "df_positions_2019['mile_since'] = df_positions_2019.loc[df_positions_2019['prev_lon'].notnull()].apply(\n",
    "    lambda x: gd.distance(x.prev_coord, x.curr_coord).nm, axis=1) "
   ]
  },
  {
   "cell_type": "code",
   "execution_count": 19,
   "metadata": {},
   "outputs": [],
   "source": [
    "# Here is the calculation of hour since the last record (current_time - previous_time)\n",
    "# Then convert to hourly format\n",
    "df_positions_2019['hour_since'] = (df_positions_2019.new_position_received_time - df_positions_2019.prev_receive_time)/np.timedelta64(1, 'h')"
   ]
  },
  {
   "cell_type": "code",
   "execution_count": 20,
   "metadata": {},
   "outputs": [],
   "source": [
    "# Here is the calculation of speed (mile_since - hour_since) --> nautical_mile/hour\n",
    "df_positions_2019.at[(df_positions_2019['hour_since'] == 0) & (df_positions_2019['mile_since'] > 0), 'hour_since']=0.001\n",
    "\n",
    "df_positions_2019['speed_nm'] = (df_positions_2019.mile_since / df_positions_2019.hour_since)\n"
   ]
  },
  {
   "cell_type": "code",
   "execution_count": 21,
   "metadata": {},
   "outputs": [],
   "source": [
    "df_positions_2019.loc[(df_positions_2019['hour_since'] == 0) & (df_positions_2019['mile_since'] == 0), 'speed_nm'] = 0"
   ]
  },
  {
   "cell_type": "code",
   "execution_count": 22,
   "metadata": {
    "scrolled": true
   },
   "outputs": [
    {
     "data": {
      "text/plain": [
       "0        None\n",
       "1        None\n",
       "2        None\n",
       "3        None\n",
       "4        None\n",
       "         ... \n",
       "42028    None\n",
       "42029    None\n",
       "42030    None\n",
       "42031    None\n",
       "42032    None\n",
       "Length: 36598, dtype: object"
      ]
     },
     "execution_count": 22,
     "metadata": {},
     "output_type": "execute_result"
    }
   ],
   "source": [
    "df_vessel_daily_data[(df_vessel_daily_data['time_offset'].isna() == False)\n",
    "                     &\n",
    "                     (df_vessel_daily_data['vessel_id'].isin(list_vessel_id))].apply(lambda x: apply_relationship(x), axis=1)\n",
    "\n",
    "\n",
    "\n",
    "# apply_label_combine_transit('Standby','Standby')\n",
    "# apply_label_combine_transit('Transit Eco', 'TransitCombine')\n",
    "# apply_label_combine_transit('Transit', 'TransitCombine')\n",
    "# apply_label_combine_transit('Transit Max', 'TransitCombine')\n",
    "# apply_label_combine_transit('Port', 'Port')"
   ]
  },
  {
   "cell_type": "code",
   "execution_count": 23,
   "metadata": {},
   "outputs": [],
   "source": [
    "list_daily_vessel_id = df_vessel_daily_data.id.to_numpy()"
   ]
  },
  {
   "cell_type": "code",
   "execution_count": 24,
   "metadata": {},
   "outputs": [
    {
     "data": {
      "text/plain": [
       "Index(['id', 'vessel_id', 'course', 'destination', 'draught', 'heading',\n",
       "       'latitude', 'longitude', 'nav_status', 'speed', 'eta_time',\n",
       "       'position_received_time', 'location', 'api_source',\n",
       "       'new_position_received_time', 'prev_lon', 'prev_lat',\n",
       "       'prev_receive_time', 'prev_coord', 'curr_coord', 'mile_since',\n",
       "       'hour_since', 'speed_nm', 'time_period', 'ref_date', 'daily_vessel_id',\n",
       "       'fuel_consumption_average'],\n",
       "      dtype='object')"
      ]
     },
     "execution_count": 24,
     "metadata": {},
     "output_type": "execute_result"
    }
   ],
   "source": [
    "df_positions_2019.columns"
   ]
  },
  {
   "cell_type": "code",
   "execution_count": 25,
   "metadata": {},
   "outputs": [],
   "source": [
    "df_aggregate_data = df_positions_2019.loc[\n",
    "    (df_positions_2019['daily_vessel_id'].isna() == False), \n",
    "    ['id', 'vessel_id', 'speed','new_position_received_time',\n",
    "     'prev_receive_time', 'prev_coord', 'curr_coord', 'mile_since','hour_since', \n",
    "     'speed_nm', 'fuel_consumption_average', \n",
    "     'time_period', 'ref_date', 'daily_vessel_id']].sort_values(by=['vessel_id', 'new_position_received_time'])"
   ]
  },
  {
   "cell_type": "code",
   "execution_count": 26,
   "metadata": {},
   "outputs": [],
   "source": [
    "df_aggregate_data['ref_date'] = pd.to_datetime(df_aggregate_data.ref_date, errors='coerce').dt.date"
   ]
  },
  {
   "cell_type": "code",
   "execution_count": 27,
   "metadata": {},
   "outputs": [],
   "source": [
    "len(df_aggregate_data.daily_vessel_id.unique())\n",
    "list_daily_vessel_id_agg = df_aggregate_data.daily_vessel_id.unique()"
   ]
  },
  {
   "cell_type": "code",
   "execution_count": 28,
   "metadata": {},
   "outputs": [
    {
     "data": {
      "text/plain": [
       "array([10010, 10191, 10291, ..., 35554, 35642, 35644])"
      ]
     },
     "execution_count": 28,
     "metadata": {},
     "output_type": "execute_result"
    }
   ],
   "source": [
    "list_id_not_in = df_vessel_daily_data.loc[df_vessel_daily_data['id'].isin(list_daily_vessel_id_agg) == False].id.to_numpy()\n",
    "list_id_not_in"
   ]
  },
  {
   "cell_type": "code",
   "execution_count": 29,
   "metadata": {},
   "outputs": [
    {
     "data": {
      "text/html": [
       "<div>\n",
       "<style scoped>\n",
       "    .dataframe tbody tr th:only-of-type {\n",
       "        vertical-align: middle;\n",
       "    }\n",
       "\n",
       "    .dataframe tbody tr th {\n",
       "        vertical-align: top;\n",
       "    }\n",
       "\n",
       "    .dataframe thead th {\n",
       "        text-align: right;\n",
       "    }\n",
       "</style>\n",
       "<table border=\"1\" class=\"dataframe\">\n",
       "  <thead>\n",
       "    <tr style=\"text-align: right;\">\n",
       "      <th></th>\n",
       "      <th>vessel_id</th>\n",
       "      <th>name</th>\n",
       "      <th>type</th>\n",
       "      <th>report_date</th>\n",
       "      <th>report_hours</th>\n",
       "      <th>time_period</th>\n",
       "      <th>time_offset</th>\n",
       "      <th>fuel</th>\n",
       "      <th>activity</th>\n",
       "      <th>activitymode</th>\n",
       "      <th>id</th>\n",
       "      <th>new_report_date</th>\n",
       "      <th>new_report_time</th>\n",
       "    </tr>\n",
       "  </thead>\n",
       "  <tbody>\n",
       "    <tr>\n",
       "      <th>41701</th>\n",
       "      <td>17445</td>\n",
       "      <td>SKANSI SJOBORG</td>\n",
       "      <td>PSV</td>\n",
       "      <td>2020-09-15</td>\n",
       "      <td>23.999666</td>\n",
       "      <td>1</td>\n",
       "      <td>+02:00</td>\n",
       "      <td>1.022264</td>\n",
       "      <td>NaN</td>\n",
       "      <td>NaN</td>\n",
       "      <td>35554</td>\n",
       "      <td>2020-09-15</td>\n",
       "      <td>2020-09-15 23:59:58.798370</td>\n",
       "    </tr>\n",
       "  </tbody>\n",
       "</table>\n",
       "</div>"
      ],
      "text/plain": [
       "       vessel_id            name type report_date  report_hours  time_period  \\\n",
       "41701      17445  SKANSI SJOBORG  PSV  2020-09-15     23.999666            1   \n",
       "\n",
       "      time_offset      fuel  activity  activitymode     id new_report_date  \\\n",
       "41701      +02:00  1.022264       NaN           NaN  35554      2020-09-15   \n",
       "\n",
       "                 new_report_time  \n",
       "41701 2020-09-15 23:59:58.798370  "
      ]
     },
     "execution_count": 29,
     "metadata": {},
     "output_type": "execute_result"
    }
   ],
   "source": [
    "df_vessel_daily_data[(df_vessel_daily_data['id'] == 35554)]"
   ]
  },
  {
   "cell_type": "code",
   "execution_count": 32,
   "metadata": {},
   "outputs": [
    {
     "name": "stdout",
     "output_type": "stream",
     "text": [
      "2:00:00\n",
      "2020-09-15 00:00:00\n",
      "2020-09-15 23:59:58.798370\n",
      "17445\n"
     ]
    }
   ],
   "source": [
    "result_list = df_vessel_daily_data[(df_vessel_daily_data['id'] == 35554)].apply(lambda x: apply_relationship_with_print(x), axis=1)\n",
    "list_params = result_list.values[0]"
   ]
  },
  {
   "cell_type": "code",
   "execution_count": 33,
   "metadata": {},
   "outputs": [
    {
     "data": {
      "text/html": [
       "<div>\n",
       "<style scoped>\n",
       "    .dataframe tbody tr th:only-of-type {\n",
       "        vertical-align: middle;\n",
       "    }\n",
       "\n",
       "    .dataframe tbody tr th {\n",
       "        vertical-align: top;\n",
       "    }\n",
       "\n",
       "    .dataframe thead th {\n",
       "        text-align: right;\n",
       "    }\n",
       "</style>\n",
       "<table border=\"1\" class=\"dataframe\">\n",
       "  <thead>\n",
       "    <tr style=\"text-align: right;\">\n",
       "      <th></th>\n",
       "      <th>id</th>\n",
       "      <th>vessel_id</th>\n",
       "      <th>course</th>\n",
       "      <th>destination</th>\n",
       "      <th>draught</th>\n",
       "      <th>heading</th>\n",
       "      <th>latitude</th>\n",
       "      <th>longitude</th>\n",
       "      <th>nav_status</th>\n",
       "      <th>speed</th>\n",
       "      <th>...</th>\n",
       "      <th>prev_receive_time</th>\n",
       "      <th>prev_coord</th>\n",
       "      <th>curr_coord</th>\n",
       "      <th>mile_since</th>\n",
       "      <th>hour_since</th>\n",
       "      <th>speed_nm</th>\n",
       "      <th>time_period</th>\n",
       "      <th>ref_date</th>\n",
       "      <th>daily_vessel_id</th>\n",
       "      <th>fuel_consumption_average</th>\n",
       "    </tr>\n",
       "  </thead>\n",
       "  <tbody>\n",
       "  </tbody>\n",
       "</table>\n",
       "<p>0 rows × 27 columns</p>\n",
       "</div>"
      ],
      "text/plain": [
       "Empty DataFrame\n",
       "Columns: [id, vessel_id, course, destination, draught, heading, latitude, longitude, nav_status, speed, eta_time, position_received_time, location, api_source, new_position_received_time, prev_lon, prev_lat, prev_receive_time, prev_coord, curr_coord, mile_since, hour_since, speed_nm, time_period, ref_date, daily_vessel_id, fuel_consumption_average]\n",
       "Index: []\n",
       "\n",
       "[0 rows x 27 columns]"
      ]
     },
     "execution_count": 33,
     "metadata": {},
     "output_type": "execute_result"
    }
   ],
   "source": [
    "df_positions_2019.loc[((df_positions_2019['new_position_received_time']+list_params[0])\n",
    "                          >= list_params[1]) \n",
    "                         & \n",
    "                         ((df_positions_2019['new_position_received_time']+list_params[0])\n",
    "                          < list_params[2])\n",
    "                         &\n",
    "                         (df_positions_2019['vessel_id']== list_params[3])]"
   ]
  },
  {
   "cell_type": "code",
   "execution_count": 34,
   "metadata": {},
   "outputs": [
    {
     "data": {
      "text/plain": [
       "Series([], Name: new_position_received_time, dtype: datetime64[ns])"
      ]
     },
     "execution_count": 34,
     "metadata": {},
     "output_type": "execute_result"
    }
   ],
   "source": [
    "df_positions_2019.loc[((df_positions_2019['new_position_received_time'])\n",
    "                          >= list_params[1]) \n",
    "                         & \n",
    "                         ((df_positions_2019['new_position_received_time'])\n",
    "                          < list_params[2])\n",
    "                         &\n",
    "                         (df_positions_2019['vessel_id']== list_params[3]), 'new_position_received_time']"
   ]
  },
  {
   "cell_type": "code",
   "execution_count": 35,
   "metadata": {},
   "outputs": [
    {
     "data": {
      "text/plain": [
       "1960062   2020-09-13 22:01:25.195\n",
       "1960063   2020-09-13 22:06:30.402\n",
       "1960064   2020-09-13 22:11:34.605\n",
       "1960065   2020-09-13 22:16:37.793\n",
       "1960066   2020-09-13 22:21:41.996\n",
       "1960067   2020-09-13 22:26:46.196\n",
       "1960068   2020-09-13 22:31:49.385\n",
       "1960069   2020-09-13 22:36:53.587\n",
       "1960070   2020-09-13 22:41:57.788\n",
       "1960071   2020-09-13 22:47:00.976\n",
       "1960072   2020-09-13 22:52:05.180\n",
       "1960073   2020-09-13 22:57:09.382\n",
       "1960074   2020-09-13 23:02:13.582\n",
       "1960075   2020-09-13 23:07:16.770\n",
       "1960076   2020-09-13 23:12:21.986\n",
       "1960077   2020-09-13 23:17:26.189\n",
       "1960078   2020-09-13 23:22:30.391\n",
       "1960079   2020-09-13 23:27:33.577\n",
       "1960080   2020-09-13 23:32:37.781\n",
       "1960081   2020-09-13 23:37:41.982\n",
       "1960082   2020-09-13 23:42:46.183\n",
       "1960083   2020-09-13 23:47:49.374\n",
       "1960084   2020-09-13 23:52:53.574\n",
       "1960085   2020-09-13 23:57:57.776\n",
       "1960086   2020-09-16 00:00:09.494\n",
       "1960087   2020-09-16 00:05:13.696\n",
       "1960088   2020-09-16 00:10:17.898\n",
       "1960089   2020-09-16 00:15:21.840\n",
       "1960090   2020-09-16 00:20:25.287\n",
       "1960091   2020-09-16 00:25:29.489\n",
       "1960092   2020-09-16 00:30:32.677\n",
       "1960093   2020-09-16 00:35:36.888\n",
       "1960094   2020-09-16 00:40:41.810\n",
       "1960095   2020-09-16 00:45:44.270\n",
       "1960096   2020-09-16 00:50:49.486\n",
       "1960097   2020-09-16 00:55:53.687\n",
       "1960098   2020-09-16 01:00:57.889\n",
       "1960099   2020-09-16 01:06:01.760\n",
       "1960100   2020-09-16 01:11:05.280\n",
       "1960101   2020-09-16 01:16:09.481\n",
       "1960102   2020-09-16 01:21:13.683\n",
       "1960103   2020-09-16 01:26:16.870\n",
       "1960104   2020-09-16 01:31:21.730\n",
       "1960105   2020-09-16 01:36:25.275\n",
       "1960106   2020-09-16 01:41:28.464\n",
       "1960107   2020-09-16 01:46:32.665\n",
       "1960108   2020-09-16 01:51:36.867\n",
       "1960109   2020-09-16 01:56:42.820\n",
       "1960110   2020-09-16 02:01:46.284\n",
       "1960111   2020-09-16 02:06:49.472\n",
       "1960112   2020-09-16 02:11:53.675\n",
       "1960113   2020-09-16 02:16:57.877\n",
       "1960114   2020-09-16 02:22:01.650\n",
       "1960115   2020-09-16 02:27:05.267\n",
       "1960116   2020-09-16 02:32:09.468\n",
       "1960117   2020-09-16 02:37:12.656\n",
       "1960118   2020-09-16 02:42:16.858\n",
       "1960119   2020-09-16 02:47:21.600\n",
       "1960120   2020-09-16 02:52:25.263\n",
       "1960121   2020-09-16 02:57:28.422\n",
       "Name: new_position_received_time, dtype: datetime64[ns]"
      ]
     },
     "execution_count": 35,
     "metadata": {},
     "output_type": "execute_result"
    }
   ],
   "source": [
    "df_positions_2019.loc[((df_positions_2019['new_position_received_time']+list_params[0])\n",
    "                          >= list_params[1]-timedelta(hours=24)) \n",
    "                         & \n",
    "                         ((df_positions_2019['new_position_received_time']+list_params[0])\n",
    "                          < list_params[2]+timedelta(hours=5))\n",
    "                         &\n",
    "                         (df_positions_2019['vessel_id']== list_params[3]), 'new_position_received_time']"
   ]
  },
  {
   "cell_type": "code",
   "execution_count": 36,
   "metadata": {},
   "outputs": [
    {
     "data": {
      "text/html": [
       "<div>\n",
       "<style scoped>\n",
       "    .dataframe tbody tr th:only-of-type {\n",
       "        vertical-align: middle;\n",
       "    }\n",
       "\n",
       "    .dataframe tbody tr th {\n",
       "        vertical-align: top;\n",
       "    }\n",
       "\n",
       "    .dataframe thead th {\n",
       "        text-align: right;\n",
       "    }\n",
       "</style>\n",
       "<table border=\"1\" class=\"dataframe\">\n",
       "  <thead>\n",
       "    <tr style=\"text-align: right;\">\n",
       "      <th></th>\n",
       "      <th>id</th>\n",
       "      <th>vessel_id</th>\n",
       "      <th>course</th>\n",
       "      <th>destination</th>\n",
       "      <th>draught</th>\n",
       "      <th>heading</th>\n",
       "      <th>latitude</th>\n",
       "      <th>longitude</th>\n",
       "      <th>nav_status</th>\n",
       "      <th>speed</th>\n",
       "      <th>...</th>\n",
       "      <th>prev_receive_time</th>\n",
       "      <th>prev_coord</th>\n",
       "      <th>curr_coord</th>\n",
       "      <th>mile_since</th>\n",
       "      <th>hour_since</th>\n",
       "      <th>speed_nm</th>\n",
       "      <th>time_period</th>\n",
       "      <th>ref_date</th>\n",
       "      <th>daily_vessel_id</th>\n",
       "      <th>fuel_consumption_average</th>\n",
       "    </tr>\n",
       "  </thead>\n",
       "  <tbody>\n",
       "    <tr>\n",
       "      <th>0</th>\n",
       "      <td>44392977</td>\n",
       "      <td>88</td>\n",
       "      <td>62.000000</td>\n",
       "      <td>TRANSOCEAN NORGE</td>\n",
       "      <td>5.5</td>\n",
       "      <td>56</td>\n",
       "      <td>61.297137</td>\n",
       "      <td>2.559763</td>\n",
       "      <td>underway using engine</td>\n",
       "      <td>10.700000</td>\n",
       "      <td>...</td>\n",
       "      <td>NaT</td>\n",
       "      <td>(nan, nan)</td>\n",
       "      <td>(61.297137, 2.5597630000000002)</td>\n",
       "      <td>NaN</td>\n",
       "      <td>NaN</td>\n",
       "      <td>NaN</td>\n",
       "      <td>NaN</td>\n",
       "      <td>NaN</td>\n",
       "      <td>NaN</td>\n",
       "      <td>NaN</td>\n",
       "    </tr>\n",
       "    <tr>\n",
       "      <th>1</th>\n",
       "      <td>44392756</td>\n",
       "      <td>88</td>\n",
       "      <td>68.600000</td>\n",
       "      <td>NaN</td>\n",
       "      <td>NaN</td>\n",
       "      <td>61</td>\n",
       "      <td>61.300048</td>\n",
       "      <td>2.572957</td>\n",
       "      <td>under way using engine</td>\n",
       "      <td>10.500000</td>\n",
       "      <td>...</td>\n",
       "      <td>2020-01-01 00:07:28.000</td>\n",
       "      <td>(61.297137, 2.5597630000000002)</td>\n",
       "      <td>(61.30004833, 2.57295667)</td>\n",
       "      <td>0.420103</td>\n",
       "      <td>0.039364</td>\n",
       "      <td>10.672372</td>\n",
       "      <td>NaN</td>\n",
       "      <td>NaN</td>\n",
       "      <td>NaN</td>\n",
       "      <td>NaN</td>\n",
       "    </tr>\n",
       "    <tr>\n",
       "      <th>2</th>\n",
       "      <td>44395182</td>\n",
       "      <td>88</td>\n",
       "      <td>64.600000</td>\n",
       "      <td>NaN</td>\n",
       "      <td>NaN</td>\n",
       "      <td>63</td>\n",
       "      <td>61.312108</td>\n",
       "      <td>2.627665</td>\n",
       "      <td>under way using engine</td>\n",
       "      <td>10.600000</td>\n",
       "      <td>...</td>\n",
       "      <td>2020-01-01 00:09:49.709</td>\n",
       "      <td>(61.30004833, 2.57295667)</td>\n",
       "      <td>(61.31210833, 2.627665)</td>\n",
       "      <td>1.741339</td>\n",
       "      <td>0.166792</td>\n",
       "      <td>10.440166</td>\n",
       "      <td>NaN</td>\n",
       "      <td>NaN</td>\n",
       "      <td>NaN</td>\n",
       "      <td>NaN</td>\n",
       "    </tr>\n",
       "    <tr>\n",
       "      <th>3</th>\n",
       "      <td>44395606</td>\n",
       "      <td>88</td>\n",
       "      <td>66.500000</td>\n",
       "      <td>NaN</td>\n",
       "      <td>NaN</td>\n",
       "      <td>60</td>\n",
       "      <td>61.323590</td>\n",
       "      <td>2.684065</td>\n",
       "      <td>under way using engine</td>\n",
       "      <td>10.200000</td>\n",
       "      <td>...</td>\n",
       "      <td>2020-01-01 00:19:50.161</td>\n",
       "      <td>(61.31210833, 2.627665)</td>\n",
       "      <td>(61.32359, 2.684065)</td>\n",
       "      <td>1.771534</td>\n",
       "      <td>0.169123</td>\n",
       "      <td>10.474803</td>\n",
       "      <td>NaN</td>\n",
       "      <td>NaN</td>\n",
       "      <td>NaN</td>\n",
       "      <td>NaN</td>\n",
       "    </tr>\n",
       "    <tr>\n",
       "      <th>4</th>\n",
       "      <td>44396652</td>\n",
       "      <td>88</td>\n",
       "      <td>66.000000</td>\n",
       "      <td>TRANSOCEAN NORGE</td>\n",
       "      <td>5.5</td>\n",
       "      <td>61</td>\n",
       "      <td>61.330035</td>\n",
       "      <td>2.717613</td>\n",
       "      <td>underway using engine</td>\n",
       "      <td>10.200000</td>\n",
       "      <td>...</td>\n",
       "      <td>2020-01-01 00:29:59.005</td>\n",
       "      <td>(61.32359, 2.684065)</td>\n",
       "      <td>(61.330034999999995, 2.717613)</td>\n",
       "      <td>1.044685</td>\n",
       "      <td>0.102776</td>\n",
       "      <td>10.164641</td>\n",
       "      <td>NaN</td>\n",
       "      <td>NaN</td>\n",
       "      <td>NaN</td>\n",
       "      <td>NaN</td>\n",
       "    </tr>\n",
       "    <tr>\n",
       "      <th>...</th>\n",
       "      <td>...</td>\n",
       "      <td>...</td>\n",
       "      <td>...</td>\n",
       "      <td>...</td>\n",
       "      <td>...</td>\n",
       "      <td>...</td>\n",
       "      <td>...</td>\n",
       "      <td>...</td>\n",
       "      <td>...</td>\n",
       "      <td>...</td>\n",
       "      <td>...</td>\n",
       "      <td>...</td>\n",
       "      <td>...</td>\n",
       "      <td>...</td>\n",
       "      <td>...</td>\n",
       "      <td>...</td>\n",
       "      <td>...</td>\n",
       "      <td>...</td>\n",
       "      <td>...</td>\n",
       "      <td>...</td>\n",
       "      <td>...</td>\n",
       "    </tr>\n",
       "    <tr>\n",
       "      <th>2092062</th>\n",
       "      <td>87847216</td>\n",
       "      <td>17445</td>\n",
       "      <td>48.200001</td>\n",
       "      <td>NaN</td>\n",
       "      <td>0.0</td>\n",
       "      <td>NaN</td>\n",
       "      <td>72.493477</td>\n",
       "      <td>20.366852</td>\n",
       "      <td>NaN</td>\n",
       "      <td>0.603323</td>\n",
       "      <td>...</td>\n",
       "      <td>2020-12-31 23:40:57.830</td>\n",
       "      <td>(72.4934768676758, 20.3668422698975)</td>\n",
       "      <td>(72.4934768676758, 20.3668518066406)</td>\n",
       "      <td>0.000173</td>\n",
       "      <td>0.003736</td>\n",
       "      <td>0.046292</td>\n",
       "      <td>NaN</td>\n",
       "      <td>NaN</td>\n",
       "      <td>NaN</td>\n",
       "      <td>NaN</td>\n",
       "    </tr>\n",
       "    <tr>\n",
       "      <th>2092063</th>\n",
       "      <td>87846812</td>\n",
       "      <td>17445</td>\n",
       "      <td>203.199997</td>\n",
       "      <td>NaN</td>\n",
       "      <td>0.0</td>\n",
       "      <td>NaN</td>\n",
       "      <td>72.493477</td>\n",
       "      <td>20.366804</td>\n",
       "      <td>NaN</td>\n",
       "      <td>0.401570</td>\n",
       "      <td>...</td>\n",
       "      <td>2020-12-31 23:41:11.281</td>\n",
       "      <td>(72.4934768676758, 20.3668518066406)</td>\n",
       "      <td>(72.4934768676758, 20.3668041229248)</td>\n",
       "      <td>0.000865</td>\n",
       "      <td>0.080276</td>\n",
       "      <td>0.010773</td>\n",
       "      <td>NaN</td>\n",
       "      <td>NaN</td>\n",
       "      <td>NaN</td>\n",
       "      <td>NaN</td>\n",
       "    </tr>\n",
       "    <tr>\n",
       "      <th>2092064</th>\n",
       "      <td>87847217</td>\n",
       "      <td>17445</td>\n",
       "      <td>165.199997</td>\n",
       "      <td>NaN</td>\n",
       "      <td>0.0</td>\n",
       "      <td>NaN</td>\n",
       "      <td>72.493477</td>\n",
       "      <td>20.366842</td>\n",
       "      <td>NaN</td>\n",
       "      <td>0.327697</td>\n",
       "      <td>...</td>\n",
       "      <td>2020-12-31 23:46:00.273</td>\n",
       "      <td>(72.4934768676758, 20.3668041229248)</td>\n",
       "      <td>(72.4934768676758, 20.3668422698975)</td>\n",
       "      <td>0.000692</td>\n",
       "      <td>0.004225</td>\n",
       "      <td>0.163763</td>\n",
       "      <td>NaN</td>\n",
       "      <td>NaN</td>\n",
       "      <td>NaN</td>\n",
       "      <td>NaN</td>\n",
       "    </tr>\n",
       "    <tr>\n",
       "      <th>2092065</th>\n",
       "      <td>87847218</td>\n",
       "      <td>17445</td>\n",
       "      <td>89.500000</td>\n",
       "      <td>NaN</td>\n",
       "      <td>0.0</td>\n",
       "      <td>NaN</td>\n",
       "      <td>72.493439</td>\n",
       "      <td>20.366941</td>\n",
       "      <td>NaN</td>\n",
       "      <td>0.567558</td>\n",
       "      <td>...</td>\n",
       "      <td>2020-12-31 23:46:15.482</td>\n",
       "      <td>(72.4934768676758, 20.3668422698975)</td>\n",
       "      <td>(72.4934387207031, 20.3669414520264)</td>\n",
       "      <td>0.002919</td>\n",
       "      <td>0.084500</td>\n",
       "      <td>0.034541</td>\n",
       "      <td>NaN</td>\n",
       "      <td>NaN</td>\n",
       "      <td>NaN</td>\n",
       "      <td>NaN</td>\n",
       "    </tr>\n",
       "    <tr>\n",
       "      <th>2092066</th>\n",
       "      <td>87847219</td>\n",
       "      <td>17445</td>\n",
       "      <td>175.399994</td>\n",
       "      <td>NaN</td>\n",
       "      <td>0.0</td>\n",
       "      <td>NaN</td>\n",
       "      <td>72.493462</td>\n",
       "      <td>20.367119</td>\n",
       "      <td>NaN</td>\n",
       "      <td>0.445877</td>\n",
       "      <td>...</td>\n",
       "      <td>2020-12-31 23:51:19.683</td>\n",
       "      <td>(72.4934387207031, 20.3669414520264)</td>\n",
       "      <td>(72.4934616088867, 20.3671188354492)</td>\n",
       "      <td>0.003500</td>\n",
       "      <td>0.084219</td>\n",
       "      <td>0.041561</td>\n",
       "      <td>NaN</td>\n",
       "      <td>NaN</td>\n",
       "      <td>NaN</td>\n",
       "      <td>NaN</td>\n",
       "    </tr>\n",
       "  </tbody>\n",
       "</table>\n",
       "<p>1630651 rows × 27 columns</p>\n",
       "</div>"
      ],
      "text/plain": [
       "               id  vessel_id      course       destination  draught heading  \\\n",
       "0        44392977         88   62.000000  TRANSOCEAN NORGE      5.5      56   \n",
       "1        44392756         88   68.600000               NaN      NaN      61   \n",
       "2        44395182         88   64.600000               NaN      NaN      63   \n",
       "3        44395606         88   66.500000               NaN      NaN      60   \n",
       "4        44396652         88   66.000000  TRANSOCEAN NORGE      5.5      61   \n",
       "...           ...        ...         ...               ...      ...     ...   \n",
       "2092062  87847216      17445   48.200001               NaN      0.0     NaN   \n",
       "2092063  87846812      17445  203.199997               NaN      0.0     NaN   \n",
       "2092064  87847217      17445  165.199997               NaN      0.0     NaN   \n",
       "2092065  87847218      17445   89.500000               NaN      0.0     NaN   \n",
       "2092066  87847219      17445  175.399994               NaN      0.0     NaN   \n",
       "\n",
       "          latitude  longitude              nav_status      speed  ...  \\\n",
       "0        61.297137   2.559763   underway using engine  10.700000  ...   \n",
       "1        61.300048   2.572957  under way using engine  10.500000  ...   \n",
       "2        61.312108   2.627665  under way using engine  10.600000  ...   \n",
       "3        61.323590   2.684065  under way using engine  10.200000  ...   \n",
       "4        61.330035   2.717613   underway using engine  10.200000  ...   \n",
       "...            ...        ...                     ...        ...  ...   \n",
       "2092062  72.493477  20.366852                     NaN   0.603323  ...   \n",
       "2092063  72.493477  20.366804                     NaN   0.401570  ...   \n",
       "2092064  72.493477  20.366842                     NaN   0.327697  ...   \n",
       "2092065  72.493439  20.366941                     NaN   0.567558  ...   \n",
       "2092066  72.493462  20.367119                     NaN   0.445877  ...   \n",
       "\n",
       "              prev_receive_time                            prev_coord  \\\n",
       "0                           NaT                            (nan, nan)   \n",
       "1       2020-01-01 00:07:28.000       (61.297137, 2.5597630000000002)   \n",
       "2       2020-01-01 00:09:49.709             (61.30004833, 2.57295667)   \n",
       "3       2020-01-01 00:19:50.161               (61.31210833, 2.627665)   \n",
       "4       2020-01-01 00:29:59.005                  (61.32359, 2.684065)   \n",
       "...                         ...                                   ...   \n",
       "2092062 2020-12-31 23:40:57.830  (72.4934768676758, 20.3668422698975)   \n",
       "2092063 2020-12-31 23:41:11.281  (72.4934768676758, 20.3668518066406)   \n",
       "2092064 2020-12-31 23:46:00.273  (72.4934768676758, 20.3668041229248)   \n",
       "2092065 2020-12-31 23:46:15.482  (72.4934768676758, 20.3668422698975)   \n",
       "2092066 2020-12-31 23:51:19.683  (72.4934387207031, 20.3669414520264)   \n",
       "\n",
       "                                   curr_coord mile_since hour_since  \\\n",
       "0             (61.297137, 2.5597630000000002)        NaN        NaN   \n",
       "1                   (61.30004833, 2.57295667)   0.420103   0.039364   \n",
       "2                     (61.31210833, 2.627665)   1.741339   0.166792   \n",
       "3                        (61.32359, 2.684065)   1.771534   0.169123   \n",
       "4              (61.330034999999995, 2.717613)   1.044685   0.102776   \n",
       "...                                       ...        ...        ...   \n",
       "2092062  (72.4934768676758, 20.3668518066406)   0.000173   0.003736   \n",
       "2092063  (72.4934768676758, 20.3668041229248)   0.000865   0.080276   \n",
       "2092064  (72.4934768676758, 20.3668422698975)   0.000692   0.004225   \n",
       "2092065  (72.4934387207031, 20.3669414520264)   0.002919   0.084500   \n",
       "2092066  (72.4934616088867, 20.3671188354492)   0.003500   0.084219   \n",
       "\n",
       "          speed_nm  time_period ref_date daily_vessel_id  \\\n",
       "0              NaN          NaN      NaN             NaN   \n",
       "1        10.672372          NaN      NaN             NaN   \n",
       "2        10.440166          NaN      NaN             NaN   \n",
       "3        10.474803          NaN      NaN             NaN   \n",
       "4        10.164641          NaN      NaN             NaN   \n",
       "...            ...          ...      ...             ...   \n",
       "2092062   0.046292          NaN      NaN             NaN   \n",
       "2092063   0.010773          NaN      NaN             NaN   \n",
       "2092064   0.163763          NaN      NaN             NaN   \n",
       "2092065   0.034541          NaN      NaN             NaN   \n",
       "2092066   0.041561          NaN      NaN             NaN   \n",
       "\n",
       "        fuel_consumption_average  \n",
       "0                            NaN  \n",
       "1                            NaN  \n",
       "2                            NaN  \n",
       "3                            NaN  \n",
       "4                            NaN  \n",
       "...                          ...  \n",
       "2092062                      NaN  \n",
       "2092063                      NaN  \n",
       "2092064                      NaN  \n",
       "2092065                      NaN  \n",
       "2092066                      NaN  \n",
       "\n",
       "[1630651 rows x 27 columns]"
      ]
     },
     "execution_count": 36,
     "metadata": {},
     "output_type": "execute_result"
    }
   ],
   "source": [
    "df_positions_2019"
   ]
  },
  {
   "cell_type": "code",
   "execution_count": 37,
   "metadata": {},
   "outputs": [
    {
     "data": {
      "text/plain": [
       "2020-11-20    9491\n",
       "2020-12-28    8929\n",
       "2020-11-23    8812\n",
       "2020-12-29    8721\n",
       "2020-11-16    8709\n",
       "              ... \n",
       "2020-08-13    2100\n",
       "2020-06-12    2068\n",
       "2020-07-23    2015\n",
       "2020-06-13    1617\n",
       "2021-01-01    1496\n",
       "Name: ref_date, Length: 366, dtype: int64"
      ]
     },
     "execution_count": 37,
     "metadata": {},
     "output_type": "execute_result"
    }
   ],
   "source": [
    "df_aggregate_data.ref_date.value_counts()"
   ]
  },
  {
   "cell_type": "code",
   "execution_count": 38,
   "metadata": {},
   "outputs": [],
   "source": [
    "df_aggregate_data = df_aggregate_data.groupby(by=['daily_vessel_id']).agg({'mile_since': 'sum',\n",
    "                                                                           'hour_since': 'sum',\n",
    "                                                                           'new_position_received_time': 'min',\n",
    "                                                                           'speed': ['max', 'mean'], \n",
    "                                                                           'speed_nm': ['max', 'median', 'mean'], \n",
    "                                                                           'fuel_consumption_average': ['max', 'mean'],\n",
    "                                                                           'curr_coord': ['first', 'last'],\n",
    "                                                                 }).reset_index(col_level=0)\n",
    "\n",
    "df_aggregate_data.columns = ['_'.join(col).strip() for col in df_aggregate_data.columns.values]"
   ]
  },
  {
   "cell_type": "code",
   "execution_count": 39,
   "metadata": {},
   "outputs": [],
   "source": [
    "df_aggregate_data['period_total_distance'] = df_aggregate_data.apply(lambda x: gd.distance(x['curr_coord_first'],\n",
    "                                                                                          x['curr_coord_last']\n",
    "                                                                                          ).nm, axis=1) "
   ]
  },
  {
   "cell_type": "code",
   "execution_count": 40,
   "metadata": {},
   "outputs": [],
   "source": [
    "df_aggregate_data.loc[df_aggregate_data['period_total_distance'] == 0, 'period_total_distance'] = 0.00001\n",
    "df_aggregate_data['distance_ratio'] = df_aggregate_data.mile_since_sum/df_aggregate_data.period_total_distance\n"
   ]
  },
  {
   "cell_type": "code",
   "execution_count": 41,
   "metadata": {},
   "outputs": [],
   "source": [
    "df_aggregate_data = df_aggregate_data[['hour_since_sum',\n",
    "                                                                                                             'mile_since_sum',\n",
    "                                                                                                             'period_total_distance',\n",
    "                                                                                                             'distance_ratio',\n",
    "                                                                                                             'fuel_consumption_average_max', \n",
    "                                                                                                             'fuel_consumption_average_mean',\n",
    "                                                                                                             'speed_nm_max', 'speed_nm_median', \n",
    "                                                                                                             'speed_nm_mean',\n",
    "                                                                                                             'daily_vessel_id_'\n",
    "                                                                                                    ]]\n",
    "\n",
    "# df_aggregate_data.loc[df_aggregate_data['transit_type_first'].isin(['Transit Max']), 'activity_label_first'] = df_aggregate_data['transit_type_first']\n",
    "\n",
    "# df_aggregate_data.activity_label_first.count()"
   ]
  },
  {
   "cell_type": "code",
   "execution_count": 42,
   "metadata": {},
   "outputs": [
    {
     "data": {
      "text/plain": [
       "hour_since_sum                   34243\n",
       "mile_since_sum                   34243\n",
       "period_total_distance            34243\n",
       "distance_ratio                   34243\n",
       "fuel_consumption_average_max     34243\n",
       "fuel_consumption_average_mean    34243\n",
       "speed_nm_max                     34243\n",
       "speed_nm_median                  34243\n",
       "speed_nm_mean                    34243\n",
       "daily_vessel_id_                 34243\n",
       "dtype: int64"
      ]
     },
     "execution_count": 42,
     "metadata": {},
     "output_type": "execute_result"
    }
   ],
   "source": [
    "df_aggregate_data.count()"
   ]
  },
  {
   "cell_type": "code",
   "execution_count": 43,
   "metadata": {},
   "outputs": [
    {
     "data": {
      "text/html": [
       "<div>\n",
       "<style scoped>\n",
       "    .dataframe tbody tr th:only-of-type {\n",
       "        vertical-align: middle;\n",
       "    }\n",
       "\n",
       "    .dataframe tbody tr th {\n",
       "        vertical-align: top;\n",
       "    }\n",
       "\n",
       "    .dataframe thead th {\n",
       "        text-align: right;\n",
       "    }\n",
       "</style>\n",
       "<table border=\"1\" class=\"dataframe\">\n",
       "  <thead>\n",
       "    <tr style=\"text-align: right;\">\n",
       "      <th></th>\n",
       "      <th>hour_since_sum</th>\n",
       "      <th>mile_since_sum</th>\n",
       "      <th>period_total_distance</th>\n",
       "      <th>distance_ratio</th>\n",
       "      <th>fuel_consumption_average_max</th>\n",
       "      <th>fuel_consumption_average_mean</th>\n",
       "      <th>speed_nm_max</th>\n",
       "      <th>speed_nm_median</th>\n",
       "      <th>speed_nm_mean</th>\n",
       "      <th>daily_vessel_id_</th>\n",
       "    </tr>\n",
       "  </thead>\n",
       "  <tbody>\n",
       "    <tr>\n",
       "      <th>0</th>\n",
       "      <td>24.050721</td>\n",
       "      <td>0.068762</td>\n",
       "      <td>0.001710</td>\n",
       "      <td>40.215063</td>\n",
       "      <td>0.071250</td>\n",
       "      <td>0.071250</td>\n",
       "      <td>6.597903</td>\n",
       "      <td>0.003082</td>\n",
       "      <td>0.069545</td>\n",
       "      <td>10000.0</td>\n",
       "    </tr>\n",
       "    <tr>\n",
       "      <th>2</th>\n",
       "      <td>8.200334</td>\n",
       "      <td>0.049021</td>\n",
       "      <td>0.022233</td>\n",
       "      <td>2.204896</td>\n",
       "      <td>0.209381</td>\n",
       "      <td>0.209381</td>\n",
       "      <td>0.153738</td>\n",
       "      <td>0.002786</td>\n",
       "      <td>0.010972</td>\n",
       "      <td>10002.0</td>\n",
       "    </tr>\n",
       "    <tr>\n",
       "      <th>15</th>\n",
       "      <td>8.400554</td>\n",
       "      <td>0.033457</td>\n",
       "      <td>0.000261</td>\n",
       "      <td>128.191222</td>\n",
       "      <td>0.106886</td>\n",
       "      <td>0.106886</td>\n",
       "      <td>0.114610</td>\n",
       "      <td>0.004136</td>\n",
       "      <td>0.011749</td>\n",
       "      <td>10016.0</td>\n",
       "    </tr>\n",
       "    <tr>\n",
       "      <th>16</th>\n",
       "      <td>23.950508</td>\n",
       "      <td>0.091190</td>\n",
       "      <td>0.001069</td>\n",
       "      <td>85.293045</td>\n",
       "      <td>0.000000</td>\n",
       "      <td>0.000000</td>\n",
       "      <td>0.391957</td>\n",
       "      <td>0.003877</td>\n",
       "      <td>0.015282</td>\n",
       "      <td>10017.0</td>\n",
       "    </tr>\n",
       "    <tr>\n",
       "      <th>17</th>\n",
       "      <td>24.000534</td>\n",
       "      <td>0.085203</td>\n",
       "      <td>0.000488</td>\n",
       "      <td>174.562223</td>\n",
       "      <td>0.000000</td>\n",
       "      <td>0.000000</td>\n",
       "      <td>0.406028</td>\n",
       "      <td>0.003236</td>\n",
       "      <td>0.008232</td>\n",
       "      <td>10018.0</td>\n",
       "    </tr>\n",
       "    <tr>\n",
       "      <th>18</th>\n",
       "      <td>10.386038</td>\n",
       "      <td>0.046939</td>\n",
       "      <td>0.000395</td>\n",
       "      <td>118.789572</td>\n",
       "      <td>0.016682</td>\n",
       "      <td>0.016682</td>\n",
       "      <td>0.141830</td>\n",
       "      <td>0.003968</td>\n",
       "      <td>0.012908</td>\n",
       "      <td>10019.0</td>\n",
       "    </tr>\n",
       "    <tr>\n",
       "      <th>31</th>\n",
       "      <td>19.156111</td>\n",
       "      <td>0.395337</td>\n",
       "      <td>0.083416</td>\n",
       "      <td>4.739357</td>\n",
       "      <td>0.089219</td>\n",
       "      <td>0.089219</td>\n",
       "      <td>0.870056</td>\n",
       "      <td>0.003982</td>\n",
       "      <td>0.030788</td>\n",
       "      <td>10032.0</td>\n",
       "    </tr>\n",
       "    <tr>\n",
       "      <th>32</th>\n",
       "      <td>21.750556</td>\n",
       "      <td>0.055093</td>\n",
       "      <td>0.000564</td>\n",
       "      <td>97.598786</td>\n",
       "      <td>0.085499</td>\n",
       "      <td>0.085499</td>\n",
       "      <td>0.091321</td>\n",
       "      <td>0.002576</td>\n",
       "      <td>0.006484</td>\n",
       "      <td>10033.0</td>\n",
       "    </tr>\n",
       "    <tr>\n",
       "      <th>37</th>\n",
       "      <td>3.700000</td>\n",
       "      <td>0.647678</td>\n",
       "      <td>0.027893</td>\n",
       "      <td>23.220194</td>\n",
       "      <td>0.153887</td>\n",
       "      <td>0.153887</td>\n",
       "      <td>0.336884</td>\n",
       "      <td>0.129496</td>\n",
       "      <td>0.149034</td>\n",
       "      <td>10038.0</td>\n",
       "    </tr>\n",
       "    <tr>\n",
       "      <th>43</th>\n",
       "      <td>3.621875</td>\n",
       "      <td>0.519230</td>\n",
       "      <td>0.018944</td>\n",
       "      <td>27.408668</td>\n",
       "      <td>0.349746</td>\n",
       "      <td>0.349746</td>\n",
       "      <td>2.434328</td>\n",
       "      <td>0.012415</td>\n",
       "      <td>0.145015</td>\n",
       "      <td>10044.0</td>\n",
       "    </tr>\n",
       "    <tr>\n",
       "      <th>59</th>\n",
       "      <td>0.955278</td>\n",
       "      <td>0.234102</td>\n",
       "      <td>0.000010</td>\n",
       "      <td>23410.227018</td>\n",
       "      <td>0.157806</td>\n",
       "      <td>0.157806</td>\n",
       "      <td>0.245062</td>\n",
       "      <td>0.245062</td>\n",
       "      <td>0.245062</td>\n",
       "      <td>10060.0</td>\n",
       "    </tr>\n",
       "    <tr>\n",
       "      <th>68</th>\n",
       "      <td>2.456389</td>\n",
       "      <td>6.640441</td>\n",
       "      <td>0.078005</td>\n",
       "      <td>85.128879</td>\n",
       "      <td>0.293096</td>\n",
       "      <td>0.293096</td>\n",
       "      <td>6.339899</td>\n",
       "      <td>0.165176</td>\n",
       "      <td>2.170399</td>\n",
       "      <td>10069.0</td>\n",
       "    </tr>\n",
       "    <tr>\n",
       "      <th>78</th>\n",
       "      <td>2.708299</td>\n",
       "      <td>0.626904</td>\n",
       "      <td>0.025985</td>\n",
       "      <td>24.125631</td>\n",
       "      <td>0.030174</td>\n",
       "      <td>0.030174</td>\n",
       "      <td>3.410999</td>\n",
       "      <td>0.011195</td>\n",
       "      <td>0.231633</td>\n",
       "      <td>10079.0</td>\n",
       "    </tr>\n",
       "    <tr>\n",
       "      <th>92</th>\n",
       "      <td>2.021612</td>\n",
       "      <td>0.251870</td>\n",
       "      <td>0.008430</td>\n",
       "      <td>29.877755</td>\n",
       "      <td>0.287242</td>\n",
       "      <td>0.287242</td>\n",
       "      <td>1.373648</td>\n",
       "      <td>0.006731</td>\n",
       "      <td>0.124144</td>\n",
       "      <td>10093.0</td>\n",
       "    </tr>\n",
       "    <tr>\n",
       "      <th>124</th>\n",
       "      <td>0.875127</td>\n",
       "      <td>1.806977</td>\n",
       "      <td>0.080691</td>\n",
       "      <td>22.393734</td>\n",
       "      <td>0.410263</td>\n",
       "      <td>0.410263</td>\n",
       "      <td>8.382823</td>\n",
       "      <td>0.567156</td>\n",
       "      <td>1.891526</td>\n",
       "      <td>10125.0</td>\n",
       "    </tr>\n",
       "  </tbody>\n",
       "</table>\n",
       "</div>"
      ],
      "text/plain": [
       "     hour_since_sum  mile_since_sum  period_total_distance  distance_ratio  \\\n",
       "0         24.050721        0.068762               0.001710       40.215063   \n",
       "2          8.200334        0.049021               0.022233        2.204896   \n",
       "15         8.400554        0.033457               0.000261      128.191222   \n",
       "16        23.950508        0.091190               0.001069       85.293045   \n",
       "17        24.000534        0.085203               0.000488      174.562223   \n",
       "18        10.386038        0.046939               0.000395      118.789572   \n",
       "31        19.156111        0.395337               0.083416        4.739357   \n",
       "32        21.750556        0.055093               0.000564       97.598786   \n",
       "37         3.700000        0.647678               0.027893       23.220194   \n",
       "43         3.621875        0.519230               0.018944       27.408668   \n",
       "59         0.955278        0.234102               0.000010    23410.227018   \n",
       "68         2.456389        6.640441               0.078005       85.128879   \n",
       "78         2.708299        0.626904               0.025985       24.125631   \n",
       "92         2.021612        0.251870               0.008430       29.877755   \n",
       "124        0.875127        1.806977               0.080691       22.393734   \n",
       "\n",
       "     fuel_consumption_average_max  fuel_consumption_average_mean  \\\n",
       "0                        0.071250                       0.071250   \n",
       "2                        0.209381                       0.209381   \n",
       "15                       0.106886                       0.106886   \n",
       "16                       0.000000                       0.000000   \n",
       "17                       0.000000                       0.000000   \n",
       "18                       0.016682                       0.016682   \n",
       "31                       0.089219                       0.089219   \n",
       "32                       0.085499                       0.085499   \n",
       "37                       0.153887                       0.153887   \n",
       "43                       0.349746                       0.349746   \n",
       "59                       0.157806                       0.157806   \n",
       "68                       0.293096                       0.293096   \n",
       "78                       0.030174                       0.030174   \n",
       "92                       0.287242                       0.287242   \n",
       "124                      0.410263                       0.410263   \n",
       "\n",
       "     speed_nm_max  speed_nm_median  speed_nm_mean  daily_vessel_id_  \n",
       "0        6.597903         0.003082       0.069545           10000.0  \n",
       "2        0.153738         0.002786       0.010972           10002.0  \n",
       "15       0.114610         0.004136       0.011749           10016.0  \n",
       "16       0.391957         0.003877       0.015282           10017.0  \n",
       "17       0.406028         0.003236       0.008232           10018.0  \n",
       "18       0.141830         0.003968       0.012908           10019.0  \n",
       "31       0.870056         0.003982       0.030788           10032.0  \n",
       "32       0.091321         0.002576       0.006484           10033.0  \n",
       "37       0.336884         0.129496       0.149034           10038.0  \n",
       "43       2.434328         0.012415       0.145015           10044.0  \n",
       "59       0.245062         0.245062       0.245062           10060.0  \n",
       "68       6.339899         0.165176       2.170399           10069.0  \n",
       "78       3.410999         0.011195       0.231633           10079.0  \n",
       "92       1.373648         0.006731       0.124144           10093.0  \n",
       "124      8.382823         0.567156       1.891526           10125.0  "
      ]
     },
     "execution_count": 43,
     "metadata": {},
     "output_type": "execute_result"
    }
   ],
   "source": [
    "df_aggregate_data.loc[(df_aggregate_data['daily_vessel_id_'].isin([10038\n",
    "                                                                    ,10044\n",
    "                                                                    ,10060\n",
    "                                                                    ,10069\n",
    "                                                                    ,10079\n",
    "                                                                    ,10093\n",
    "                                                                    ,10125,]))\n",
    "                     |\n",
    "                     (df_aggregate_data['daily_vessel_id_'].isin([10000\n",
    "                                                                    ,10002\n",
    "                                                                    ,10016\n",
    "                                                                    ,10017\n",
    "                                                                    ,10018\n",
    "                                                                    ,10019\n",
    "                                                                    ,10032\n",
    "                                                                    ,10033,]))]"
   ]
  },
  {
   "cell_type": "code",
   "execution_count": 44,
   "metadata": {},
   "outputs": [
    {
     "data": {
      "text/html": [
       "<div>\n",
       "<style scoped>\n",
       "    .dataframe tbody tr th:only-of-type {\n",
       "        vertical-align: middle;\n",
       "    }\n",
       "\n",
       "    .dataframe tbody tr th {\n",
       "        vertical-align: top;\n",
       "    }\n",
       "\n",
       "    .dataframe thead th {\n",
       "        text-align: right;\n",
       "    }\n",
       "</style>\n",
       "<table border=\"1\" class=\"dataframe\">\n",
       "  <thead>\n",
       "    <tr style=\"text-align: right;\">\n",
       "      <th></th>\n",
       "      <th>hour_since_sum</th>\n",
       "      <th>mile_since_sum</th>\n",
       "      <th>period_total_distance</th>\n",
       "      <th>distance_ratio</th>\n",
       "      <th>fuel_consumption_average_max</th>\n",
       "      <th>fuel_consumption_average_mean</th>\n",
       "      <th>speed_nm_max</th>\n",
       "      <th>speed_nm_median</th>\n",
       "      <th>speed_nm_mean</th>\n",
       "      <th>daily_vessel_id_</th>\n",
       "    </tr>\n",
       "  </thead>\n",
       "  <tbody>\n",
       "    <tr>\n",
       "      <th>48</th>\n",
       "      <td>14.980647</td>\n",
       "      <td>0.598476</td>\n",
       "      <td>0.330414</td>\n",
       "      <td>1.811291</td>\n",
       "      <td>0.102602</td>\n",
       "      <td>0.102602</td>\n",
       "      <td>1.941660</td>\n",
       "      <td>0.003170</td>\n",
       "      <td>0.040531</td>\n",
       "      <td>10049.0</td>\n",
       "    </tr>\n",
       "    <tr>\n",
       "      <th>72</th>\n",
       "      <td>8.511111</td>\n",
       "      <td>0.321377</td>\n",
       "      <td>0.315529</td>\n",
       "      <td>1.018533</td>\n",
       "      <td>0.110654</td>\n",
       "      <td>0.110654</td>\n",
       "      <td>0.328280</td>\n",
       "      <td>0.000832</td>\n",
       "      <td>0.033536</td>\n",
       "      <td>10073.0</td>\n",
       "    </tr>\n",
       "    <tr>\n",
       "      <th>73</th>\n",
       "      <td>18.281789</td>\n",
       "      <td>0.331872</td>\n",
       "      <td>0.261480</td>\n",
       "      <td>1.269207</td>\n",
       "      <td>0.107262</td>\n",
       "      <td>0.107262</td>\n",
       "      <td>1.701887</td>\n",
       "      <td>0.002633</td>\n",
       "      <td>0.052554</td>\n",
       "      <td>10074.0</td>\n",
       "    </tr>\n",
       "    <tr>\n",
       "      <th>83</th>\n",
       "      <td>18.590423</td>\n",
       "      <td>0.401907</td>\n",
       "      <td>0.363264</td>\n",
       "      <td>1.106377</td>\n",
       "      <td>0.098566</td>\n",
       "      <td>0.098566</td>\n",
       "      <td>0.736956</td>\n",
       "      <td>0.003077</td>\n",
       "      <td>0.041703</td>\n",
       "      <td>10084.0</td>\n",
       "    </tr>\n",
       "    <tr>\n",
       "      <th>148</th>\n",
       "      <td>12.018258</td>\n",
       "      <td>0.310980</td>\n",
       "      <td>0.235808</td>\n",
       "      <td>1.318782</td>\n",
       "      <td>0.077838</td>\n",
       "      <td>0.077838</td>\n",
       "      <td>0.552879</td>\n",
       "      <td>0.002923</td>\n",
       "      <td>0.027913</td>\n",
       "      <td>10149.0</td>\n",
       "    </tr>\n",
       "    <tr>\n",
       "      <th>149</th>\n",
       "      <td>24.061530</td>\n",
       "      <td>6.224930</td>\n",
       "      <td>5.565341</td>\n",
       "      <td>1.118517</td>\n",
       "      <td>0.071250</td>\n",
       "      <td>0.071250</td>\n",
       "      <td>8.969303</td>\n",
       "      <td>0.003265</td>\n",
       "      <td>0.356337</td>\n",
       "      <td>10150.0</td>\n",
       "    </tr>\n",
       "    <tr>\n",
       "      <th>160</th>\n",
       "      <td>10.522987</td>\n",
       "      <td>8.326295</td>\n",
       "      <td>4.923127</td>\n",
       "      <td>1.691261</td>\n",
       "      <td>0.082744</td>\n",
       "      <td>0.082744</td>\n",
       "      <td>12.224488</td>\n",
       "      <td>0.003873</td>\n",
       "      <td>2.181922</td>\n",
       "      <td>10161.0</td>\n",
       "    </tr>\n",
       "    <tr>\n",
       "      <th>173</th>\n",
       "      <td>16.422654</td>\n",
       "      <td>0.217745</td>\n",
       "      <td>0.212630</td>\n",
       "      <td>1.024057</td>\n",
       "      <td>0.054865</td>\n",
       "      <td>0.054865</td>\n",
       "      <td>2.912386</td>\n",
       "      <td>0.000446</td>\n",
       "      <td>0.427062</td>\n",
       "      <td>10174.0</td>\n",
       "    </tr>\n",
       "    <tr>\n",
       "      <th>185</th>\n",
       "      <td>1.901954</td>\n",
       "      <td>0.402529</td>\n",
       "      <td>0.297549</td>\n",
       "      <td>1.352817</td>\n",
       "      <td>0.256457</td>\n",
       "      <td>0.256457</td>\n",
       "      <td>1.172383</td>\n",
       "      <td>0.002237</td>\n",
       "      <td>0.207417</td>\n",
       "      <td>10186.0</td>\n",
       "    </tr>\n",
       "    <tr>\n",
       "      <th>188</th>\n",
       "      <td>0.394191</td>\n",
       "      <td>0.120147</td>\n",
       "      <td>0.119079</td>\n",
       "      <td>1.008969</td>\n",
       "      <td>0.170905</td>\n",
       "      <td>0.170905</td>\n",
       "      <td>0.612867</td>\n",
       "      <td>0.047976</td>\n",
       "      <td>0.222016</td>\n",
       "      <td>10189.0</td>\n",
       "    </tr>\n",
       "    <tr>\n",
       "      <th>204</th>\n",
       "      <td>11.578922</td>\n",
       "      <td>0.564420</td>\n",
       "      <td>0.238463</td>\n",
       "      <td>2.366911</td>\n",
       "      <td>0.145528</td>\n",
       "      <td>0.145528</td>\n",
       "      <td>1.780837</td>\n",
       "      <td>0.003014</td>\n",
       "      <td>0.070316</td>\n",
       "      <td>10206.0</td>\n",
       "    </tr>\n",
       "  </tbody>\n",
       "</table>\n",
       "</div>"
      ],
      "text/plain": [
       "     hour_since_sum  mile_since_sum  period_total_distance  distance_ratio  \\\n",
       "48        14.980647        0.598476               0.330414        1.811291   \n",
       "72         8.511111        0.321377               0.315529        1.018533   \n",
       "73        18.281789        0.331872               0.261480        1.269207   \n",
       "83        18.590423        0.401907               0.363264        1.106377   \n",
       "148       12.018258        0.310980               0.235808        1.318782   \n",
       "149       24.061530        6.224930               5.565341        1.118517   \n",
       "160       10.522987        8.326295               4.923127        1.691261   \n",
       "173       16.422654        0.217745               0.212630        1.024057   \n",
       "185        1.901954        0.402529               0.297549        1.352817   \n",
       "188        0.394191        0.120147               0.119079        1.008969   \n",
       "204       11.578922        0.564420               0.238463        2.366911   \n",
       "\n",
       "     fuel_consumption_average_max  fuel_consumption_average_mean  \\\n",
       "48                       0.102602                       0.102602   \n",
       "72                       0.110654                       0.110654   \n",
       "73                       0.107262                       0.107262   \n",
       "83                       0.098566                       0.098566   \n",
       "148                      0.077838                       0.077838   \n",
       "149                      0.071250                       0.071250   \n",
       "160                      0.082744                       0.082744   \n",
       "173                      0.054865                       0.054865   \n",
       "185                      0.256457                       0.256457   \n",
       "188                      0.170905                       0.170905   \n",
       "204                      0.145528                       0.145528   \n",
       "\n",
       "     speed_nm_max  speed_nm_median  speed_nm_mean  daily_vessel_id_  \n",
       "48       1.941660         0.003170       0.040531           10049.0  \n",
       "72       0.328280         0.000832       0.033536           10073.0  \n",
       "73       1.701887         0.002633       0.052554           10074.0  \n",
       "83       0.736956         0.003077       0.041703           10084.0  \n",
       "148      0.552879         0.002923       0.027913           10149.0  \n",
       "149      8.969303         0.003265       0.356337           10150.0  \n",
       "160     12.224488         0.003873       2.181922           10161.0  \n",
       "173      2.912386         0.000446       0.427062           10174.0  \n",
       "185      1.172383         0.002237       0.207417           10186.0  \n",
       "188      0.612867         0.047976       0.222016           10189.0  \n",
       "204      1.780837         0.003014       0.070316           10206.0  "
      ]
     },
     "execution_count": 44,
     "metadata": {},
     "output_type": "execute_result"
    }
   ],
   "source": [
    "df_aggregate_data.loc[\n",
    "                     (df_aggregate_data['daily_vessel_id_'].isin([10049\n",
    "                                                                    ,10073\n",
    "                                                                    ,10074\n",
    "                                                                    ,10084\n",
    "                                                                    ,10149\n",
    "                                                                    ,10150\n",
    "                                                                    ,10161\n",
    "                                                                    ,10174\n",
    "                                                                    ,10186\n",
    "                                                                    ,10189\n",
    "                                                                    ,10206]))]"
   ]
  },
  {
   "cell_type": "code",
   "execution_count": 45,
   "metadata": {},
   "outputs": [
    {
     "data": {
      "text/plain": [
       "Index(['hour_since_sum', 'mile_since_sum', 'period_total_distance',\n",
       "       'distance_ratio', 'fuel_consumption_average_max',\n",
       "       'fuel_consumption_average_mean', 'speed_nm_max', 'speed_nm_median',\n",
       "       'speed_nm_mean', 'daily_vessel_id_'],\n",
       "      dtype='object')"
      ]
     },
     "execution_count": 45,
     "metadata": {},
     "output_type": "execute_result"
    }
   ],
   "source": [
    "df_aggregate_data.columns"
   ]
  },
  {
   "cell_type": "code",
   "execution_count": 46,
   "metadata": {},
   "outputs": [],
   "source": [
    "# list_label_sequence = ['Port', 'TransitCombine', 'Standby', 'DP', 'Transit Max']\n",
    "# df_aggregate_data['activity_label_code'] = df_aggregate_data.apply(lambda x: list_label_sequence.index(x.activity_label_first), axis=1)"
   ]
  },
  {
   "cell_type": "code",
   "execution_count": 47,
   "metadata": {},
   "outputs": [],
   "source": [
    "# df_aggregate_data['activity_label_code'] = df_aggregate_data.activity_label_first.factorize()[0]"
   ]
  },
  {
   "cell_type": "code",
   "execution_count": 48,
   "metadata": {},
   "outputs": [],
   "source": [
    "test_dataset_x = df_aggregate_data.loc[(df_aggregate_data['speed_nm_max'].isna()==False) , \n",
    "                                     ['hour_since_sum', 'mile_since_sum',\n",
    "       'period_total_distance', 'distance_ratio',\n",
    "       'fuel_consumption_average_max', 'fuel_consumption_average_mean',\n",
    "       'speed_nm_max', 'speed_nm_median', 'speed_nm_mean'\n",
    "                                     ]]\n",
    "\n",
    "\n",
    "# test_dataset_y = df_aggregate_data.loc[(df_aggregate_data['speed_nm_max'].isna()==False), 'activity_label_code']"
   ]
  },
  {
   "cell_type": "code",
   "execution_count": 49,
   "metadata": {},
   "outputs": [
    {
     "data": {
      "text/plain": [
       "hour_since_sum                   34243\n",
       "mile_since_sum                   34243\n",
       "period_total_distance            34243\n",
       "distance_ratio                   34243\n",
       "fuel_consumption_average_max     34243\n",
       "fuel_consumption_average_mean    34243\n",
       "speed_nm_max                     34243\n",
       "speed_nm_median                  34243\n",
       "speed_nm_mean                    34243\n",
       "dtype: int64"
      ]
     },
     "execution_count": 49,
     "metadata": {},
     "output_type": "execute_result"
    }
   ],
   "source": [
    "test_dataset_x.count()"
   ]
  },
  {
   "cell_type": "code",
   "execution_count": 63,
   "metadata": {},
   "outputs": [
    {
     "data": {
      "text/plain": [
       "hour_since_sum                   34243\n",
       "mile_since_sum                   34243\n",
       "period_total_distance            34243\n",
       "distance_ratio                   34243\n",
       "fuel_consumption_average_max     34243\n",
       "fuel_consumption_average_mean    34243\n",
       "speed_nm_max                     34243\n",
       "speed_nm_median                  34243\n",
       "speed_nm_mean                    34243\n",
       "daily_vessel_id_                 34243\n",
       "random_forest_predictions        34243\n",
       "xgb_predictions                  34243\n",
       "ensemble_predictions             34243\n",
       "dtype: int64"
      ]
     },
     "execution_count": 63,
     "metadata": {},
     "output_type": "execute_result"
    }
   ],
   "source": [
    "df_aggregate_data.loc[(df_aggregate_data['speed_nm_max'].isna()==False)].count()"
   ]
  },
  {
   "cell_type": "code",
   "execution_count": 51,
   "metadata": {},
   "outputs": [],
   "source": [
    "# load the model from disk\n",
    "file_name = '[PSV]random_forest_model.pkl'\n",
    "randomforrest_clf = pickle.load(open('model/'+file_name, 'rb'))\n",
    "# randomforrest_score = randomforrest_clf.score(test_dataset_x, test_dataset_y)\n",
    "rf_predictions = randomforrest_clf.predict(test_dataset_x)\n",
    "# print(randomforrest_score)"
   ]
  },
  {
   "cell_type": "code",
   "execution_count": 52,
   "metadata": {},
   "outputs": [],
   "source": [
    "# load the model from disk\n",
    "file_name = '[PSV]xg_boost_model.pkl'\n",
    "xgboost_clf = pickle.load(open('model/'+file_name, 'rb'))\n",
    "# xgboost_score = xgboost_clf.score(test_dataset_x, test_dataset_y)\n",
    "xgboost_predictions = xgboost_clf.predict(test_dataset_x)\n",
    "# print(xgboost_score)"
   ]
  },
  {
   "cell_type": "code",
   "execution_count": 53,
   "metadata": {},
   "outputs": [],
   "source": [
    "# load the model from disk\n",
    "file_name = '[PSV]ensemble_model3.pkl'\n",
    "ensemble_clf = pickle.load(open('model/'+file_name, 'rb'))\n",
    "# ensemble_score = ensemble_clf.score(test_dataset_x, test_dataset_y)\n",
    "ensemble_predictions = ensemble_clf.predict(test_dataset_x)\n",
    "# print(ensemble_score)"
   ]
  },
  {
   "cell_type": "code",
   "execution_count": 54,
   "metadata": {},
   "outputs": [],
   "source": [
    "df_aggregate_data.loc[(df_aggregate_data['speed_nm_max'].isna()==False),'random_forest_predictions'] = rf_predictions\n",
    "df_aggregate_data.loc[(df_aggregate_data['speed_nm_max'].isna()==False),'xgb_predictions'] = xgboost_predictions\n",
    "df_aggregate_data.loc[(df_aggregate_data['speed_nm_max'].isna()==False),'ensemble_predictions'] = ensemble_predictions"
   ]
  },
  {
   "cell_type": "code",
   "execution_count": 55,
   "metadata": {},
   "outputs": [],
   "source": [
    "# df_aggregate_data.loc[(df_aggregate_data['speed_nm_max'].isna()==False), ['activity_label_first', 'activity_label_code', 'random_forest_predictions', 'xgb_predictions']]"
   ]
  },
  {
   "cell_type": "code",
   "execution_count": 56,
   "metadata": {},
   "outputs": [],
   "source": [
    "df_aggregate_data.to_csv(file_name, sep='\\t', encoding='utf-8')"
   ]
  },
  {
   "cell_type": "code",
   "execution_count": 57,
   "metadata": {},
   "outputs": [
    {
     "data": {
      "text/plain": [
       "Index(['hour_since_sum', 'mile_since_sum', 'period_total_distance',\n",
       "       'distance_ratio', 'fuel_consumption_average_max',\n",
       "       'fuel_consumption_average_mean', 'speed_nm_max', 'speed_nm_median',\n",
       "       'speed_nm_mean', 'daily_vessel_id_', 'random_forest_predictions',\n",
       "       'xgb_predictions', 'ensemble_predictions'],\n",
       "      dtype='object')"
      ]
     },
     "execution_count": 57,
     "metadata": {},
     "output_type": "execute_result"
    }
   ],
   "source": [
    "df_aggregate_data.columns\n",
    "# df_aggregate_data['daily_vessel_id']"
   ]
  },
  {
   "cell_type": "code",
   "execution_count": 58,
   "metadata": {},
   "outputs": [],
   "source": [
    "list_ensemble_predictions = df_aggregate_data['ensemble_predictions'].to_numpy()\n",
    "list_randomforest_predictions = df_aggregate_data['random_forest_predictions'].to_numpy()"
   ]
  },
  {
   "cell_type": "code",
   "execution_count": 59,
   "metadata": {},
   "outputs": [],
   "source": [
    "df_vessel_daily_data_raw.loc[df_vessel_daily_data_raw['id'].isin(df_aggregate_data['daily_vessel_id_']), 'prediction_ens'] = list_ensemble_predictions\n",
    "df_vessel_daily_data_raw.loc[df_vessel_daily_data_raw['id'].isin(df_aggregate_data['daily_vessel_id_']), 'prediction_rf'] = list_randomforest_predictions"
   ]
  },
  {
   "cell_type": "code",
   "execution_count": 60,
   "metadata": {},
   "outputs": [
    {
     "data": {
      "text/plain": [
       "vessel_id         34243\n",
       "name              34243\n",
       "type              34243\n",
       "report_date       34243\n",
       "report_hours      34243\n",
       "time_period       34243\n",
       "time_offset       34243\n",
       "fuel              34243\n",
       "activity              0\n",
       "activitymode          0\n",
       "id                34243\n",
       "prediction_ens    34243\n",
       "prediction_rf     34243\n",
       "dtype: int64"
      ]
     },
     "execution_count": 60,
     "metadata": {},
     "output_type": "execute_result"
    }
   ],
   "source": [
    "df_vessel_daily_data_raw.loc[df_vessel_daily_data_raw['id'].isin(df_aggregate_data['daily_vessel_id_'])].count()"
   ]
  },
  {
   "cell_type": "code",
   "execution_count": 65,
   "metadata": {},
   "outputs": [],
   "source": [
    "# transform to activity id\n",
    "df_vessel_daily_data_raw.loc[df_vessel_daily_data_raw['prediction_ens'] == 0, 'prediction_activity_id_model1'] = 6\n",
    "df_vessel_daily_data_raw.loc[df_vessel_daily_data_raw['prediction_ens'] == 1, 'prediction_activity_id_model1'] = 7\n",
    "df_vessel_daily_data_raw.loc[df_vessel_daily_data_raw['prediction_ens'] == 2, 'prediction_activity_id_model1'] = 3\n",
    "df_vessel_daily_data_raw.loc[df_vessel_daily_data_raw['prediction_ens'] == 3, 'prediction_activity_id_model1'] = 2\n",
    "df_vessel_daily_data_raw.loc[df_vessel_daily_data_raw['prediction_ens'] == 4, 'prediction_activity_id_model1'] = 9\n",
    "\n",
    "\n",
    "df_vessel_daily_data_raw.loc[df_vessel_daily_data_raw['prediction_rf'] == 0, 'prediction_activity_id_model2'] = 6\n",
    "df_vessel_daily_data_raw.loc[df_vessel_daily_data_raw['prediction_rf'] == 1, 'prediction_activity_id_model2'] = 7\n",
    "df_vessel_daily_data_raw.loc[df_vessel_daily_data_raw['prediction_rf'] == 2, 'prediction_activity_id_model2'] = 3\n",
    "df_vessel_daily_data_raw.loc[df_vessel_daily_data_raw['prediction_rf'] == 3, 'prediction_activity_id_model2'] = 2\n",
    "df_vessel_daily_data_raw.loc[df_vessel_daily_data_raw['prediction_rf'] == 4, 'prediction_activity_id_model2'] = 9"
   ]
  },
  {
   "cell_type": "code",
   "execution_count": 66,
   "metadata": {},
   "outputs": [
    {
     "data": {
      "text/plain": [
       "vessel_id                        42033\n",
       "name                             42033\n",
       "type                             42033\n",
       "report_date                      42033\n",
       "report_hours                     42033\n",
       "time_period                      42033\n",
       "time_offset                      42033\n",
       "fuel                             42033\n",
       "activity                             0\n",
       "activitymode                         0\n",
       "id                               42033\n",
       "prediction_ens                   34243\n",
       "prediction_rf                    34243\n",
       "prediction_activity_id_model1    34243\n",
       "prediction_activity_id_model2    34243\n",
       "dtype: int64"
      ]
     },
     "execution_count": 66,
     "metadata": {},
     "output_type": "execute_result"
    }
   ],
   "source": [
    "df_vessel_daily_data_raw.count()\n",
    "# df_vessel_daily_data_raw.loc[df_vessel_daily_data_raw['prediction_ens'].isna() == False]\n"
   ]
  },
  {
   "cell_type": "code",
   "execution_count": 69,
   "metadata": {},
   "outputs": [],
   "source": [
    "df_vessel_daily_data_raw.to_csv('data/test/daily_vessel_data_with_prediction_two_prediction_fixed.csv', encoding='utf-8')"
   ]
  },
  {
   "cell_type": "code",
   "execution_count": 53,
   "metadata": {},
   "outputs": [
    {
     "name": "stdout",
     "output_type": "stream",
     "text": [
      "2021-03-08 23:33:42.384155\n"
     ]
    }
   ],
   "source": [
    "print(datetime.now())"
   ]
  },
  {
   "cell_type": "code",
   "execution_count": 54,
   "metadata": {},
   "outputs": [],
   "source": [
    "# df_duplicates.to_csv('data/test/daily_vessel_data_with_prediction_DUPLICATES', encoding='utf-8')"
   ]
  },
  {
   "cell_type": "code",
   "execution_count": 55,
   "metadata": {},
   "outputs": [],
   "source": [
    "# df_duplicates"
   ]
  },
  {
   "cell_type": "code",
   "execution_count": 56,
   "metadata": {},
   "outputs": [],
   "source": [
    "# df_prediction_check = pd.read_csv(\"./data/test/daily_vessel_data_with_prediction (1)\", sep=',')"
   ]
  },
  {
   "cell_type": "code",
   "execution_count": 57,
   "metadata": {},
   "outputs": [],
   "source": [
    "# df_prediction_check.head(20)"
   ]
  },
  {
   "cell_type": "code",
   "execution_count": 58,
   "metadata": {},
   "outputs": [],
   "source": [
    "# df_vessel_daily_data_raw.head(20)"
   ]
  },
  {
   "cell_type": "code",
   "execution_count": 59,
   "metadata": {},
   "outputs": [],
   "source": [
    "# df_prediction_check.count()"
   ]
  }
 ],
 "metadata": {
  "kernelspec": {
   "display_name": "Python 3",
   "language": "python",
   "name": "python3"
  },
  "language_info": {
   "codemirror_mode": {
    "name": "ipython",
    "version": 3
   },
   "file_extension": ".py",
   "mimetype": "text/x-python",
   "name": "python",
   "nbconvert_exporter": "python",
   "pygments_lexer": "ipython3",
   "version": "3.6.12"
  }
 },
 "nbformat": 4,
 "nbformat_minor": 4
}
